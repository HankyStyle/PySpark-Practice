{
  "cells": [
    {
      "cell_type": "markdown",
      "metadata": {
        "id": "view-in-github",
        "colab_type": "text"
      },
      "source": [
        "<a href=\"https://colab.research.google.com/github/HankyStyle/PySpark-Practice/blob/main/%E6%AD%A1%E8%BF%8E%E4%BD%BF%E7%94%A8_Colaboratory.ipynb\" target=\"_parent\"><img src=\"https://colab.research.google.com/assets/colab-badge.svg\" alt=\"Open In Colab\"/></a>"
      ]
    },
    {
      "cell_type": "code",
      "execution_count": 1,
      "metadata": {
        "colab": {
          "base_uri": "https://localhost:8080/"
        },
        "id": "gJr_9dXGpJ05",
        "outputId": "4c25fc34-12b2-49d5-db7e-5900016f93b8"
      },
      "outputs": [
        {
          "output_type": "stream",
          "name": "stdout",
          "text": [
            "sample_data\n"
          ]
        }
      ],
      "source": [
        "!ls"
      ]
    },
    {
      "cell_type": "code",
      "execution_count": 2,
      "metadata": {
        "colab": {
          "base_uri": "https://localhost:8080/"
        },
        "id": "-gE-Ez1qtyIA",
        "outputId": "8bf4db04-1940-44a0-f7b4-30869b9e0196"
      },
      "outputs": [
        {
          "output_type": "stream",
          "name": "stdout",
          "text": [
            "Hit:1 https://developer.download.nvidia.com/compute/cuda/repos/ubuntu2204/x86_64  InRelease\n",
            "Hit:2 http://archive.ubuntu.com/ubuntu jammy InRelease\n",
            "Get:3 http://security.ubuntu.com/ubuntu jammy-security InRelease [110 kB]\n",
            "Get:4 http://archive.ubuntu.com/ubuntu jammy-updates InRelease [119 kB]\n",
            "Hit:5 https://ppa.launchpadcontent.net/deadsnakes/ppa/ubuntu jammy InRelease\n",
            "Get:6 http://archive.ubuntu.com/ubuntu jammy-backports InRelease [108 kB]\n",
            "Hit:7 https://ppa.launchpadcontent.net/graphics-drivers/ppa/ubuntu jammy InRelease\n",
            "Get:8 http://security.ubuntu.com/ubuntu jammy-security/main amd64 Packages [731 kB]\n",
            "Hit:9 https://ppa.launchpadcontent.net/ubuntugis/ppa/ubuntu jammy InRelease\n",
            "Get:10 http://security.ubuntu.com/ubuntu jammy-security/restricted amd64 Packages [734 kB]\n",
            "Fetched 1,802 kB in 2s (1,094 kB/s)\n",
            "Reading package lists... Done\n"
          ]
        }
      ],
      "source": [
        "!apt-get update\n",
        "!apt-get install openjdk-8-jdk-headless -qq > /dev/null\n",
        "!wget -q http://archive.apache.org/dist/spark/spark-2.3.1/spark-2.3.1-bin-hadoop2.7.tgz\n",
        "!tar xf spark-2.3.1-bin-hadoop2.7.tgz\n",
        "!pip install -q findspark"
      ]
    },
    {
      "cell_type": "code",
      "source": [
        "!pip install pyspark"
      ],
      "metadata": {
        "colab": {
          "base_uri": "https://localhost:8080/"
        },
        "id": "BDrSu04o2FY8",
        "outputId": "2657b705-acf8-4355-8713-6c823bdb8e7e"
      },
      "execution_count": 3,
      "outputs": [
        {
          "output_type": "stream",
          "name": "stdout",
          "text": [
            "Collecting pyspark\n",
            "  Downloading pyspark-3.4.1.tar.gz (310.8 MB)\n",
            "\u001b[2K     \u001b[90m━━━━━━━━━━━━━━━━━━━━━━━━━━━━━━━━━━━━━━━\u001b[0m \u001b[32m310.8/310.8 MB\u001b[0m \u001b[31m4.9 MB/s\u001b[0m eta \u001b[36m0:00:00\u001b[0m\n",
            "\u001b[?25h  Preparing metadata (setup.py) ... \u001b[?25l\u001b[?25hdone\n",
            "Requirement already satisfied: py4j==0.10.9.7 in /usr/local/lib/python3.10/dist-packages (from pyspark) (0.10.9.7)\n",
            "Building wheels for collected packages: pyspark\n",
            "  Building wheel for pyspark (setup.py) ... \u001b[?25l\u001b[?25hdone\n",
            "  Created wheel for pyspark: filename=pyspark-3.4.1-py2.py3-none-any.whl size=311285398 sha256=41db4f7e04ca09b62626b7d4039f5272f106435ed9228df4724611e4dabf7724\n",
            "  Stored in directory: /root/.cache/pip/wheels/0d/77/a3/ff2f74cc9ab41f8f594dabf0579c2a7c6de920d584206e0834\n",
            "Successfully built pyspark\n",
            "Installing collected packages: pyspark\n",
            "Successfully installed pyspark-3.4.1\n"
          ]
        }
      ]
    },
    {
      "cell_type": "code",
      "source": [
        "from pyspark.sql import SparkSession\n",
        "spark = SparkSession.builder.master(\"local[*]\").getOrCreate()\n",
        "spark"
      ],
      "metadata": {
        "colab": {
          "base_uri": "https://localhost:8080/",
          "height": 219
        },
        "id": "nRDWbAh62HvL",
        "outputId": "8c5fe7c3-b094-4107-f3fa-13eb463019fe"
      },
      "execution_count": 4,
      "outputs": [
        {
          "output_type": "execute_result",
          "data": {
            "text/plain": [
              "<pyspark.sql.session.SparkSession at 0x7d1341f31f30>"
            ],
            "text/html": [
              "\n",
              "            <div>\n",
              "                <p><b>SparkSession - in-memory</b></p>\n",
              "                \n",
              "        <div>\n",
              "            <p><b>SparkContext</b></p>\n",
              "\n",
              "            <p><a href=\"http://fff8e00a0ec0:4040\">Spark UI</a></p>\n",
              "\n",
              "            <dl>\n",
              "              <dt>Version</dt>\n",
              "                <dd><code>v3.4.1</code></dd>\n",
              "              <dt>Master</dt>\n",
              "                <dd><code>local[*]</code></dd>\n",
              "              <dt>AppName</dt>\n",
              "                <dd><code>pyspark-shell</code></dd>\n",
              "            </dl>\n",
              "        </div>\n",
              "        \n",
              "            </div>\n",
              "        "
            ]
          },
          "metadata": {},
          "execution_count": 4
        }
      ]
    },
    {
      "cell_type": "markdown",
      "source": [
        "## Download Practice File"
      ],
      "metadata": {
        "id": "xyZAekK12RCr"
      }
    },
    {
      "cell_type": "code",
      "source": [
        "!wget https://data.cityofchicago.org/api/views/ijzp-q8t2/rows.csv?accessType=DOWNLOAD\n",
        "!ls -l"
      ],
      "metadata": {
        "colab": {
          "base_uri": "https://localhost:8080/"
        },
        "id": "XNNZXaiJ2UfM",
        "outputId": "2ed748fb-07d8-442b-8e16-78d004cd0b33"
      },
      "execution_count": 5,
      "outputs": [
        {
          "output_type": "stream",
          "name": "stdout",
          "text": [
            "--2023-07-24 00:35:29--  https://data.cityofchicago.org/api/views/ijzp-q8t2/rows.csv?accessType=DOWNLOAD\n",
            "Resolving data.cityofchicago.org (data.cityofchicago.org)... 52.206.140.199, 52.206.68.26, 52.206.140.205\n",
            "Connecting to data.cityofchicago.org (data.cityofchicago.org)|52.206.140.199|:443... connected.\n",
            "HTTP request sent, awaiting response... 200 OK\n",
            "Length: unspecified [text/csv]\n",
            "Saving to: ‘rows.csv?accessType=DOWNLOAD’\n",
            "\n",
            "rows.csv?accessType     [            <=>     ]   1.73G  2.97MB/s    in 10m 21s \n",
            "\n",
            "2023-07-24 00:45:50 (2.84 MB/s) - ‘rows.csv?accessType=DOWNLOAD’ saved [1852932294]\n",
            "\n",
            "total 2030116\n",
            "-rw-r--r--  1 root root 1852932294 Jul 23 10:56 'rows.csv?accessType=DOWNLOAD'\n",
            "drwxr-xr-x  1 root root       4096 Jul 20 13:28  sample_data\n",
            "drwxrwxr-x 13 1000 1000       4096 Jun  1  2018  spark-2.3.1-bin-hadoop2.7\n",
            "-rw-r--r--  1 root root  225883783 Jun  1  2018  spark-2.3.1-bin-hadoop2.7.tgz\n"
          ]
        }
      ]
    },
    {
      "cell_type": "code",
      "source": [
        "!mv rows.csv\\?accessType\\=DOWNLOAD reported-crimes.csv\n",
        "!ls -l"
      ],
      "metadata": {
        "colab": {
          "base_uri": "https://localhost:8080/"
        },
        "id": "NYwut5j_58xJ",
        "outputId": "a792d1b8-d64d-448b-a171-e5ddf687667b"
      },
      "execution_count": 6,
      "outputs": [
        {
          "output_type": "stream",
          "name": "stdout",
          "text": [
            "total 2030116\n",
            "-rw-r--r--  1 root root 1852932294 Jul 23 10:56 reported-crimes.csv\n",
            "drwxr-xr-x  1 root root       4096 Jul 20 13:28 sample_data\n",
            "drwxrwxr-x 13 1000 1000       4096 Jun  1  2018 spark-2.3.1-bin-hadoop2.7\n",
            "-rw-r--r--  1 root root  225883783 Jun  1  2018 spark-2.3.1-bin-hadoop2.7.tgz\n"
          ]
        }
      ]
    },
    {
      "cell_type": "code",
      "source": [
        "from pyspark.sql.functions import to_timestamp,col,lit\n",
        "rc = spark.read.csv('reported-crimes.csv',header=True).withColumn('Date',to_timestamp(col('Date'),'MM/dd/yyyy hh:mm:ss a')).filter(col('Date') <= lit('2018-11-11'))\n",
        "rc.show(5)"
      ],
      "metadata": {
        "colab": {
          "base_uri": "https://localhost:8080/"
        },
        "id": "ZVFk0xEV2mg7",
        "outputId": "48ae0ff2-7162-40e9-9ee9-155b972eea8a"
      },
      "execution_count": 7,
      "outputs": [
        {
          "output_type": "stream",
          "name": "stdout",
          "text": [
            "+--------+-----------+-------------------+--------------------+----+------------------+--------------------+--------------------+------+--------+----+--------+----+--------------+--------+------------+------------+----+--------------------+--------+---------+--------+\n",
            "|      ID|Case Number|               Date|               Block|IUCR|      Primary Type|         Description|Location Description|Arrest|Domestic|Beat|District|Ward|Community Area|FBI Code|X Coordinate|Y Coordinate|Year|          Updated On|Latitude|Longitude|Location|\n",
            "+--------+-----------+-------------------+--------------------+----+------------------+--------------------+--------------------+------+--------+----+--------+----+--------------+--------+------------+------------+----+--------------------+--------+---------+--------+\n",
            "|11646166|   JC213529|2018-09-01 00:01:00|082XX S INGLESIDE...|0810|             THEFT|           OVER $500|           RESIDENCE| false|    true|0631|     006|   8|            44|      06|        null|        null|2018|04/06/2019 04:04:...|    null|     null|    null|\n",
            "|11645836|   JC212333|2016-05-01 00:25:00| 055XX S ROCKWELL ST|1153|DECEPTIVE PRACTICE|FINANCIAL IDENTIT...|                null| false|   false|0824|     008|  15|            63|      11|        null|        null|2016|04/06/2019 04:04:...|    null|     null|    null|\n",
            "|11449702|   JB373031|2018-07-31 13:30:00|009XX E HYDE PARK...|2024|         NARCOTICS| POSS: HEROIN(WHITE)|              STREET|  true|   false|0233|     002|   5|            41|      18|        null|        null|2018|04/09/2019 04:24:...|    null|     null|    null|\n",
            "|11645527|   JC212744|2015-02-02 10:00:00|  069XX W ARCHER AVE|1153|DECEPTIVE PRACTICE|FINANCIAL IDENTIT...|               OTHER| false|   false|0811|     008|  23|            56|      11|        null|        null|2015|04/06/2019 04:04:...|    null|     null|    null|\n",
            "|11034701|   JA366925|2001-01-01 11:00:00|     016XX E 86TH PL|1153|DECEPTIVE PRACTICE|FINANCIAL IDENTIT...|           RESIDENCE| false|   false|0412|     004|   8|            45|      11|        null|        null|2001|08/05/2017 03:50:...|    null|     null|    null|\n",
            "+--------+-----------+-------------------+--------------------+----+------------------+--------------------+--------------------+------+--------+----+--------+----+--------------+--------+------------+------------+----+--------------------+--------+---------+--------+\n",
            "only showing top 5 rows\n",
            "\n"
          ]
        }
      ]
    },
    {
      "cell_type": "markdown",
      "source": [
        "## Working with rows"
      ],
      "metadata": {
        "id": "WJM2bapY2tw6"
      }
    },
    {
      "cell_type": "markdown",
      "source": [
        "**Add the reported crimes for an additional day, 12-Nov-2018, to our dataset.**"
      ],
      "metadata": {
        "id": "L-opdrss2wU8"
      }
    },
    {
      "cell_type": "code",
      "source": [
        "one_day = spark.read.csv('reported-crimes.csv',header=True).withColumn('Date',to_timestamp(col('Date'),'MM/dd/yyyy hh:mm:ss a')).filter(col('Date') == lit('2018-11-12'))\n",
        "one_day.count()"
      ],
      "metadata": {
        "colab": {
          "base_uri": "https://localhost:8080/"
        },
        "id": "9vnJNCOE2uc-",
        "outputId": "6f3b4631-1072-412c-ae43-8d2005fda259"
      },
      "execution_count": 8,
      "outputs": [
        {
          "output_type": "execute_result",
          "data": {
            "text/plain": [
              "3"
            ]
          },
          "metadata": {},
          "execution_count": 8
        }
      ]
    },
    {
      "cell_type": "code",
      "source": [
        "rc.union(one_day).show(5)"
      ],
      "metadata": {
        "colab": {
          "base_uri": "https://localhost:8080/"
        },
        "id": "EPRpER4x3Rsk",
        "outputId": "86ab2352-6f41-47a8-cff5-16de203b393e"
      },
      "execution_count": 9,
      "outputs": [
        {
          "output_type": "stream",
          "name": "stdout",
          "text": [
            "+--------+-----------+-------------------+--------------------+----+------------------+--------------------+--------------------+------+--------+----+--------+----+--------------+--------+------------+------------+----+--------------------+--------+---------+--------+\n",
            "|      ID|Case Number|               Date|               Block|IUCR|      Primary Type|         Description|Location Description|Arrest|Domestic|Beat|District|Ward|Community Area|FBI Code|X Coordinate|Y Coordinate|Year|          Updated On|Latitude|Longitude|Location|\n",
            "+--------+-----------+-------------------+--------------------+----+------------------+--------------------+--------------------+------+--------+----+--------+----+--------------+--------+------------+------------+----+--------------------+--------+---------+--------+\n",
            "|11646166|   JC213529|2018-09-01 00:01:00|082XX S INGLESIDE...|0810|             THEFT|           OVER $500|           RESIDENCE| false|    true|0631|     006|   8|            44|      06|        null|        null|2018|04/06/2019 04:04:...|    null|     null|    null|\n",
            "|11645836|   JC212333|2016-05-01 00:25:00| 055XX S ROCKWELL ST|1153|DECEPTIVE PRACTICE|FINANCIAL IDENTIT...|                null| false|   false|0824|     008|  15|            63|      11|        null|        null|2016|04/06/2019 04:04:...|    null|     null|    null|\n",
            "|11449702|   JB373031|2018-07-31 13:30:00|009XX E HYDE PARK...|2024|         NARCOTICS| POSS: HEROIN(WHITE)|              STREET|  true|   false|0233|     002|   5|            41|      18|        null|        null|2018|04/09/2019 04:24:...|    null|     null|    null|\n",
            "|11645527|   JC212744|2015-02-02 10:00:00|  069XX W ARCHER AVE|1153|DECEPTIVE PRACTICE|FINANCIAL IDENTIT...|               OTHER| false|   false|0811|     008|  23|            56|      11|        null|        null|2015|04/06/2019 04:04:...|    null|     null|    null|\n",
            "|11034701|   JA366925|2001-01-01 11:00:00|     016XX E 86TH PL|1153|DECEPTIVE PRACTICE|FINANCIAL IDENTIT...|           RESIDENCE| false|   false|0412|     004|   8|            45|      11|        null|        null|2001|08/05/2017 03:50:...|    null|     null|    null|\n",
            "+--------+-----------+-------------------+--------------------+----+------------------+--------------------+--------------------+------+--------+----+--------+----+--------------+--------+------------+------------+----+--------------------+--------+---------+--------+\n",
            "only showing top 5 rows\n",
            "\n"
          ]
        }
      ]
    },
    {
      "cell_type": "code",
      "source": [
        "rc.union(one_day).orderBy('Date',ascending = False).show(5)"
      ],
      "metadata": {
        "colab": {
          "base_uri": "https://localhost:8080/"
        },
        "id": "hljY28Yf3cv9",
        "outputId": "240a0c2e-5c9b-4a03-acf4-1cd3a9b5cbcf"
      },
      "execution_count": 10,
      "outputs": [
        {
          "output_type": "stream",
          "name": "stdout",
          "text": [
            "+--------+-----------+-------------------+--------------------+----+------------------+--------------------+--------------------+------+--------+----+--------+----+--------------+--------+------------+------------+----+--------------------+------------+-------------+--------------------+\n",
            "|      ID|Case Number|               Date|               Block|IUCR|      Primary Type|         Description|Location Description|Arrest|Domestic|Beat|District|Ward|Community Area|FBI Code|X Coordinate|Y Coordinate|Year|          Updated On|    Latitude|    Longitude|            Location|\n",
            "+--------+-----------+-------------------+--------------------+----+------------------+--------------------+--------------------+------+--------+----+--------+----+--------------+--------+------------+------------+----+--------------------+------------+-------------+--------------------+\n",
            "|11505149|   JB513151|2018-11-12 00:00:00|  003XX S WHIPPLE ST|0810|             THEFT|           OVER $500|              STREET| false|   false|1124|     011|  28|            27|      06|     1156099|     1898319|2018|11/19/2018 04:22:...|41.876776356|-87.702317641|(41.876776356, -8...|\n",
            "|11516594|   JB528186|2018-11-12 00:00:00| 049XX S PRAIRIE AVE|2826|     OTHER OFFENSE|HARASSMENT BY ELE...|               OTHER| false|   false|0224|     002|   3|            38|      26|     1178879|     1872259|2018|11/28/2018 04:14:...|41.804775828|-87.619472488|(41.804775828, -8...|\n",
            "|11540042|   JB559262|2018-11-12 00:00:00| 010XX N DEARBORN ST|1140|DECEPTIVE PRACTICE|        EMBEZZLEMENT|   CONVENIENCE STORE|  true|   false|1824|     018|   2|             8|      12|     1175747|     1907348|2018|03/16/2019 04:01:...|41.901133376|-87.629904979|(41.901133376, -8...|\n",
            "|11595518|   JC152109|2018-11-11 00:00:00|043XX N GREENVIEW...|1153|DECEPTIVE PRACTICE|FINANCIAL IDENTIT...|  SMALL RETAIL STORE| false|   false|1912|     019|  47|             6|      11|        null|        null|2018|02/15/2019 04:04:...|        null|         null|                null|\n",
            "|11504126|   JB511829|2018-11-11 00:00:00|    012XX N NOBLE ST|1320|   CRIMINAL DAMAGE|          TO VEHICLE|              STREET| false|   false|1433|     014|   2|            24|      14|     1166828|     1908386|2018|11/18/2018 04:11:...|41.904177725|-87.662635226|(41.904177725, -8...|\n",
            "+--------+-----------+-------------------+--------------------+----+------------------+--------------------+--------------------+------+--------+----+--------+----+--------------+--------+------------+------------+----+--------------------+------------+-------------+--------------------+\n",
            "only showing top 5 rows\n",
            "\n"
          ]
        }
      ]
    },
    {
      "cell_type": "markdown",
      "source": [
        "**What are the top 10 number of reported crimes by Primary type, in descending order of occurence?**"
      ],
      "metadata": {
        "id": "3LYyIzWZ5ouu"
      }
    },
    {
      "cell_type": "code",
      "source": [
        "rc.groupBy('Primary Type').count().show()"
      ],
      "metadata": {
        "colab": {
          "base_uri": "https://localhost:8080/"
        },
        "id": "5zOtw19-5ppx",
        "outputId": "c71cec10-fded-4d59-ac6f-81808ad58189"
      },
      "execution_count": 11,
      "outputs": [
        {
          "output_type": "stream",
          "name": "stdout",
          "text": [
            "+--------------------+-------+\n",
            "|        Primary Type|  count|\n",
            "+--------------------+-------+\n",
            "|OFFENSE INVOLVING...|  46730|\n",
            "|CRIMINAL SEXUAL A...|   1298|\n",
            "|            STALKING|   3388|\n",
            "|PUBLIC PEACE VIOL...|  47785|\n",
            "|           OBSCENITY|    587|\n",
            "|NON-CRIMINAL (SUB...|      9|\n",
            "|               ARSON|  11157|\n",
            "|            GAMBLING|  14422|\n",
            "|   CRIMINAL TRESPASS| 193372|\n",
            "|             ASSAULT| 418522|\n",
            "|      NON - CRIMINAL|     38|\n",
            "|LIQUOR LAW VIOLATION|  14068|\n",
            "| MOTOR VEHICLE THEFT| 314134|\n",
            "|               THEFT|1418514|\n",
            "|             BATTERY|1232281|\n",
            "|             ROBBERY| 255602|\n",
            "|            HOMICIDE|   9478|\n",
            "|           RITUALISM|     23|\n",
            "|    PUBLIC INDECENCY|    161|\n",
            "| CRIM SEXUAL ASSAULT|  26458|\n",
            "+--------------------+-------+\n",
            "only showing top 20 rows\n",
            "\n"
          ]
        }
      ]
    },
    {
      "cell_type": "code",
      "source": [
        "rc.groupBy('Primary Type').count().orderBy('count',ascending=False).show(10)"
      ],
      "metadata": {
        "colab": {
          "base_uri": "https://localhost:8080/"
        },
        "id": "XPp43Co46hgI",
        "outputId": "45e31ba6-673c-4197-f819-74db03fbadf9"
      },
      "execution_count": 12,
      "outputs": [
        {
          "output_type": "stream",
          "name": "stdout",
          "text": [
            "+-------------------+-------+\n",
            "|       Primary Type|  count|\n",
            "+-------------------+-------+\n",
            "|              THEFT|1418514|\n",
            "|            BATTERY|1232281|\n",
            "|    CRIMINAL DAMAGE| 771518|\n",
            "|          NARCOTICS| 711770|\n",
            "|      OTHER OFFENSE| 418905|\n",
            "|            ASSAULT| 418522|\n",
            "|           BURGLARY| 388041|\n",
            "|MOTOR VEHICLE THEFT| 314134|\n",
            "| DECEPTIVE PRACTICE| 267116|\n",
            "|            ROBBERY| 255602|\n",
            "+-------------------+-------+\n",
            "only showing top 10 rows\n",
            "\n"
          ]
        }
      ]
    },
    {
      "cell_type": "markdown",
      "source": [
        "**Find the percentage of reported crimes that resulted in an arrest**"
      ],
      "metadata": {
        "id": "Vnzj_LeF750D"
      }
    },
    {
      "cell_type": "code",
      "source": [
        "# 先確認 Arrest 類別\n",
        "rc.select('Arrest').distinct().show()"
      ],
      "metadata": {
        "colab": {
          "base_uri": "https://localhost:8080/"
        },
        "id": "-AQfi-5Q-LST",
        "outputId": "d1162c5c-065d-4a98-dd1e-c20af021bfa7"
      },
      "execution_count": 13,
      "outputs": [
        {
          "output_type": "stream",
          "name": "stdout",
          "text": [
            "+------+\n",
            "|Arrest|\n",
            "+------+\n",
            "| false|\n",
            "|  true|\n",
            "+------+\n",
            "\n"
          ]
        }
      ]
    },
    {
      "cell_type": "code",
      "source": [
        "rc.printSchema()"
      ],
      "metadata": {
        "colab": {
          "base_uri": "https://localhost:8080/"
        },
        "id": "jKtGsM3q_cPT",
        "outputId": "f67d50a2-958d-4e6b-ef81-b170e05ee9db"
      },
      "execution_count": 14,
      "outputs": [
        {
          "output_type": "stream",
          "name": "stdout",
          "text": [
            "root\n",
            " |-- ID: string (nullable = true)\n",
            " |-- Case Number: string (nullable = true)\n",
            " |-- Date: timestamp (nullable = true)\n",
            " |-- Block: string (nullable = true)\n",
            " |-- IUCR: string (nullable = true)\n",
            " |-- Primary Type: string (nullable = true)\n",
            " |-- Description: string (nullable = true)\n",
            " |-- Location Description: string (nullable = true)\n",
            " |-- Arrest: string (nullable = true)\n",
            " |-- Domestic: string (nullable = true)\n",
            " |-- Beat: string (nullable = true)\n",
            " |-- District: string (nullable = true)\n",
            " |-- Ward: string (nullable = true)\n",
            " |-- Community Area: string (nullable = true)\n",
            " |-- FBI Code: string (nullable = true)\n",
            " |-- X Coordinate: string (nullable = true)\n",
            " |-- Y Coordinate: string (nullable = true)\n",
            " |-- Year: string (nullable = true)\n",
            " |-- Updated On: string (nullable = true)\n",
            " |-- Latitude: string (nullable = true)\n",
            " |-- Longitude: string (nullable = true)\n",
            " |-- Location: string (nullable = true)\n",
            "\n"
          ]
        }
      ]
    },
    {
      "cell_type": "code",
      "source": [
        "rc.filter(col('Arrest') == 'true').count() / rc.select('Arrest').count()"
      ],
      "metadata": {
        "colab": {
          "base_uri": "https://localhost:8080/"
        },
        "id": "WYQEQvF7_p9G",
        "outputId": "6784eb39-763d-491f-b561-9a6b615cbd47"
      },
      "execution_count": 15,
      "outputs": [
        {
          "output_type": "execute_result",
          "data": {
            "text/plain": [
              "0.27753810002939483"
            ]
          },
          "metadata": {},
          "execution_count": 15
        }
      ]
    },
    {
      "cell_type": "markdown",
      "source": [
        "**Find the top 3 locations for reported crimes**"
      ],
      "metadata": {
        "id": "nM_9fKQX8Ccy"
      }
    },
    {
      "cell_type": "code",
      "source": [
        "rc.groupBy('Location Description').count().show()"
      ],
      "metadata": {
        "colab": {
          "base_uri": "https://localhost:8080/"
        },
        "id": "lFc6E_6f__3W",
        "outputId": "a21b8629-7144-4efd-e8d2-ac13ac743763"
      },
      "execution_count": 16,
      "outputs": [
        {
          "output_type": "stream",
          "name": "stdout",
          "text": [
            "+--------------------+------+\n",
            "|Location Description| count|\n",
            "+--------------------+------+\n",
            "|SCHOOL - PRIVATE ...|    11|\n",
            "|AIRPORT TERMINAL ...|  1603|\n",
            "|VEHICLE - COMMERCIAL|     9|\n",
            "|EXPRESSWAY EMBANK...|     1|\n",
            "|POLICE FACILITY/V...| 17603|\n",
            "|RESIDENCE - YARD ...|    79|\n",
            "|CHA PARKING LOT /...|    12|\n",
            "|            SIDEWALK|665558|\n",
            "|AIRPORT TERMINAL ...|    77|\n",
            "|OTHER RAILROAD PR...|     7|\n",
            "|CTA GARAGE / OTHE...|  9935|\n",
            "|            CAR WASH|  2775|\n",
            "|    AIRPORT/AIRCRAFT| 16114|\n",
            "|MEDICAL/DENTAL OF...|  7096|\n",
            "|    FEDERAL BUILDING|   783|\n",
            "|         CTA STATION|  3912|\n",
            "|SCHOOL, PUBLIC, G...| 28989|\n",
            "|SPORTS ARENA/STADIUM|  4996|\n",
            "|VEHICLE - OTHER R...|   200|\n",
            "|            CEMETARY|   350|\n",
            "+--------------------+------+\n",
            "only showing top 20 rows\n",
            "\n"
          ]
        }
      ]
    },
    {
      "cell_type": "code",
      "source": [
        "rc.groupBy('Location Description').count().orderBy('count',ascending=False).show(3)"
      ],
      "metadata": {
        "colab": {
          "base_uri": "https://localhost:8080/"
        },
        "id": "nKYOGRcUAIN-",
        "outputId": "6b1d0b77-c1a2-4aed-9457-e72e676539c2"
      },
      "execution_count": 17,
      "outputs": [
        {
          "output_type": "stream",
          "name": "stdout",
          "text": [
            "+--------------------+-------+\n",
            "|Location Description|  count|\n",
            "+--------------------+-------+\n",
            "|              STREET|1770625|\n",
            "|           RESIDENCE|1146121|\n",
            "|           APARTMENT| 699159|\n",
            "+--------------------+-------+\n",
            "only showing top 3 rows\n",
            "\n"
          ]
        }
      ]
    },
    {
      "cell_type": "markdown",
      "source": [
        "## Built-in functions"
      ],
      "metadata": {
        "id": "NHA3F88ADLfZ"
      }
    },
    {
      "cell_type": "code",
      "source": [
        "from pyspark.sql import functions"
      ],
      "metadata": {
        "id": "wMCLSc6ADL1h"
      },
      "execution_count": 18,
      "outputs": []
    },
    {
      "cell_type": "code",
      "source": [
        "print(dir(functions))"
      ],
      "metadata": {
        "colab": {
          "base_uri": "https://localhost:8080/"
        },
        "id": "jnaTX12SDRkJ",
        "outputId": "e5fbb63b-6994-4024-b3e9-bff14573e227"
      },
      "execution_count": 19,
      "outputs": [
        {
          "output_type": "stream",
          "name": "stdout",
          "text": [
            "['Any', 'ArrayType', 'Callable', 'Column', 'DataFrame', 'DataType', 'Dict', 'Iterable', 'JVMView', 'List', 'Optional', 'PandasUDFType', 'PySparkTypeError', 'PySparkValueError', 'PythonEvalType', 'SparkContext', 'StringType', 'StructType', 'TYPE_CHECKING', 'Tuple', 'Union', 'UserDefinedFunction', 'ValuesView', '__builtins__', '__cached__', '__doc__', '__file__', '__loader__', '__name__', '__package__', '__spec__', '_create_column_from_literal', '_create_lambda', '_create_py_udf', '_from_numpy_type', '_get_jvm_function', '_get_lambda_parameters', '_invoke_binary_math_function', '_invoke_function', '_invoke_function_over_columns', '_invoke_function_over_seq_of_columns', '_invoke_higher_order_function', '_options_to_str', '_test', '_to_java_column', '_to_seq', '_unresolved_named_lambda_variable', 'abs', 'acos', 'acosh', 'add_months', 'aggregate', 'approxCountDistinct', 'approx_count_distinct', 'array', 'array_append', 'array_compact', 'array_contains', 'array_distinct', 'array_except', 'array_insert', 'array_intersect', 'array_join', 'array_max', 'array_min', 'array_position', 'array_remove', 'array_repeat', 'array_sort', 'array_union', 'arrays_overlap', 'arrays_zip', 'asc', 'asc_nulls_first', 'asc_nulls_last', 'ascii', 'asin', 'asinh', 'assert_true', 'atan', 'atan2', 'atanh', 'avg', 'base64', 'bin', 'bit_length', 'bitwiseNOT', 'bitwise_not', 'broadcast', 'bround', 'bucket', 'call_udf', 'cast', 'cbrt', 'ceil', 'coalesce', 'col', 'collect_list', 'collect_set', 'column', 'concat', 'concat_ws', 'conv', 'corr', 'cos', 'cosh', 'cot', 'count', 'countDistinct', 'count_distinct', 'covar_pop', 'covar_samp', 'crc32', 'create_map', 'csc', 'cume_dist', 'current_date', 'current_timestamp', 'date_add', 'date_format', 'date_sub', 'date_trunc', 'datediff', 'dayofmonth', 'dayofweek', 'dayofyear', 'days', 'decode', 'degrees', 'dense_rank', 'desc', 'desc_nulls_first', 'desc_nulls_last', 'element_at', 'encode', 'exists', 'exp', 'explode', 'explode_outer', 'expm1', 'expr', 'factorial', 'filter', 'first', 'flatten', 'floor', 'forall', 'format_number', 'format_string', 'from_csv', 'from_json', 'from_unixtime', 'from_utc_timestamp', 'functools', 'get', 'get_active_spark_context', 'get_json_object', 'greatest', 'grouping', 'grouping_id', 'has_numpy', 'hash', 'hex', 'hour', 'hours', 'hypot', 'initcap', 'inline', 'inline_outer', 'input_file_name', 'inspect', 'instr', 'isnan', 'isnull', 'json_tuple', 'kurtosis', 'lag', 'last', 'last_day', 'lead', 'least', 'length', 'levenshtein', 'lit', 'localtimestamp', 'locate', 'log', 'log10', 'log1p', 'log2', 'lower', 'lpad', 'ltrim', 'make_date', 'map_concat', 'map_contains_key', 'map_entries', 'map_filter', 'map_from_arrays', 'map_from_entries', 'map_keys', 'map_values', 'map_zip_with', 'max', 'max_by', 'md5', 'mean', 'median', 'min', 'min_by', 'minute', 'mode', 'monotonically_increasing_id', 'month', 'months', 'months_between', 'nanvl', 'next_day', 'np', 'nth_value', 'ntile', 'octet_length', 'overlay', 'overload', 'pandas_udf', 'percent_rank', 'percentile_approx', 'pmod', 'posexplode', 'posexplode_outer', 'pow', 'product', 'quarter', 'radians', 'raise_error', 'rand', 'randn', 'rank', 'regexp_extract', 'regexp_replace', 'repeat', 'reverse', 'rint', 'round', 'row_number', 'rpad', 'rtrim', 'schema_of_csv', 'schema_of_json', 'sec', 'second', 'sentences', 'sequence', 'session_window', 'sha1', 'sha2', 'shiftLeft', 'shiftRight', 'shiftRightUnsigned', 'shiftleft', 'shiftright', 'shiftrightunsigned', 'shuffle', 'signum', 'sin', 'sinh', 'size', 'skewness', 'slice', 'sort_array', 'soundex', 'spark_partition_id', 'split', 'sqrt', 'stddev', 'stddev_pop', 'stddev_samp', 'struct', 'substring', 'substring_index', 'sum', 'sumDistinct', 'sum_distinct', 'sys', 'tan', 'tanh', 'timestamp_seconds', 'toDegrees', 'toRadians', 'to_csv', 'to_date', 'to_json', 'to_str', 'to_timestamp', 'to_utc_timestamp', 'transform', 'transform_keys', 'transform_values', 'translate', 'trim', 'trunc', 'try_remote_functions', 'udf', 'unbase64', 'unhex', 'unix_timestamp', 'unwrap_udt', 'upper', 'var_pop', 'var_samp', 'variance', 'warnings', 'weekofyear', 'when', 'window', 'window_time', 'xxhash64', 'year', 'years', 'zip_with']\n"
          ]
        }
      ]
    },
    {
      "cell_type": "markdown",
      "source": [
        "## String functions"
      ],
      "metadata": {
        "id": "-hQrsRXqDUaB"
      }
    },
    {
      "cell_type": "markdown",
      "source": [
        "**Display the Primary Type column in lower and upper characters, and the first 4 characters of the column**"
      ],
      "metadata": {
        "id": "604jK2ssDdZS"
      }
    },
    {
      "cell_type": "code",
      "source": [
        "from pyspark.sql.functions import lower, upper, substring"
      ],
      "metadata": {
        "id": "uE3-TaonDceZ"
      },
      "execution_count": 20,
      "outputs": []
    },
    {
      "cell_type": "code",
      "source": [
        "help(substring)"
      ],
      "metadata": {
        "colab": {
          "base_uri": "https://localhost:8080/"
        },
        "id": "HAcetojWDqXa",
        "outputId": "69ce6078-9f08-4b39-cac0-5017814eeacd"
      },
      "execution_count": 21,
      "outputs": [
        {
          "output_type": "stream",
          "name": "stdout",
          "text": [
            "Help on function substring in module pyspark.sql.functions:\n",
            "\n",
            "substring(str: 'ColumnOrName', pos: int, len: int) -> pyspark.sql.column.Column\n",
            "    Substring starts at `pos` and is of length `len` when str is String type or\n",
            "    returns the slice of byte array that starts at `pos` in byte and is of length `len`\n",
            "    when str is Binary type.\n",
            "    \n",
            "    .. versionadded:: 1.5.0\n",
            "    \n",
            "    .. versionchanged:: 3.4.0\n",
            "        Supports Spark Connect.\n",
            "    \n",
            "    Notes\n",
            "    -----\n",
            "    The position is not zero based, but 1 based index.\n",
            "    \n",
            "    Parameters\n",
            "    ----------\n",
            "    str : :class:`~pyspark.sql.Column` or str\n",
            "        target column to work on.\n",
            "    pos : int\n",
            "        starting position in str.\n",
            "    len : int\n",
            "        length of chars.\n",
            "    \n",
            "    Returns\n",
            "    -------\n",
            "    :class:`~pyspark.sql.Column`\n",
            "        substring of given value.\n",
            "    \n",
            "    Examples\n",
            "    --------\n",
            "    >>> df = spark.createDataFrame([('abcd',)], ['s',])\n",
            "    >>> df.select(substring(df.s, 1, 2).alias('s')).collect()\n",
            "    [Row(s='ab')]\n",
            "\n"
          ]
        }
      ]
    },
    {
      "cell_type": "code",
      "source": [
        "rc.printSchema()"
      ],
      "metadata": {
        "colab": {
          "base_uri": "https://localhost:8080/"
        },
        "id": "9V4MmPwRD-u6",
        "outputId": "7b662804-c2b4-4f60-f90c-c98e7a3f0679"
      },
      "execution_count": 22,
      "outputs": [
        {
          "output_type": "stream",
          "name": "stdout",
          "text": [
            "root\n",
            " |-- ID: string (nullable = true)\n",
            " |-- Case Number: string (nullable = true)\n",
            " |-- Date: timestamp (nullable = true)\n",
            " |-- Block: string (nullable = true)\n",
            " |-- IUCR: string (nullable = true)\n",
            " |-- Primary Type: string (nullable = true)\n",
            " |-- Description: string (nullable = true)\n",
            " |-- Location Description: string (nullable = true)\n",
            " |-- Arrest: string (nullable = true)\n",
            " |-- Domestic: string (nullable = true)\n",
            " |-- Beat: string (nullable = true)\n",
            " |-- District: string (nullable = true)\n",
            " |-- Ward: string (nullable = true)\n",
            " |-- Community Area: string (nullable = true)\n",
            " |-- FBI Code: string (nullable = true)\n",
            " |-- X Coordinate: string (nullable = true)\n",
            " |-- Y Coordinate: string (nullable = true)\n",
            " |-- Year: string (nullable = true)\n",
            " |-- Updated On: string (nullable = true)\n",
            " |-- Latitude: string (nullable = true)\n",
            " |-- Longitude: string (nullable = true)\n",
            " |-- Location: string (nullable = true)\n",
            "\n"
          ]
        }
      ]
    },
    {
      "cell_type": "code",
      "source": [
        "rc.select(lower(col('Primary Type')),upper(col('Primary Type')),substring(col('Primary Type'),1,4)).show(5)"
      ],
      "metadata": {
        "colab": {
          "base_uri": "https://localhost:8080/"
        },
        "id": "Rm5mDB5OECJa",
        "outputId": "8fa6f1c5-a453-4232-9045-cb6cb2178039"
      },
      "execution_count": 24,
      "outputs": [
        {
          "output_type": "stream",
          "name": "stdout",
          "text": [
            "+-------------------+-------------------+-----------------------------+\n",
            "|lower(Primary Type)|upper(Primary Type)|substring(Primary Type, 1, 4)|\n",
            "+-------------------+-------------------+-----------------------------+\n",
            "|              theft|              THEFT|                         THEF|\n",
            "| deceptive practice| DECEPTIVE PRACTICE|                         DECE|\n",
            "|          narcotics|          NARCOTICS|                         NARC|\n",
            "| deceptive practice| DECEPTIVE PRACTICE|                         DECE|\n",
            "| deceptive practice| DECEPTIVE PRACTICE|                         DECE|\n",
            "+-------------------+-------------------+-----------------------------+\n",
            "only showing top 5 rows\n",
            "\n"
          ]
        }
      ]
    },
    {
      "cell_type": "markdown",
      "source": [
        "## Numeric functions"
      ],
      "metadata": {
        "id": "qxyak6PStLsW"
      }
    },
    {
      "cell_type": "markdown",
      "source": [
        "Show the oldest date and the most recent date"
      ],
      "metadata": {
        "id": "iBjFlXANtTW1"
      }
    },
    {
      "cell_type": "code",
      "source": [
        "from pyspark.sql.functions import min, max"
      ],
      "metadata": {
        "id": "AdKkHuJHtOko"
      },
      "execution_count": 26,
      "outputs": []
    },
    {
      "cell_type": "code",
      "source": [
        "rc.select(min(col('Date')),max(col('Date'))).show(1)"
      ],
      "metadata": {
        "colab": {
          "base_uri": "https://localhost:8080/"
        },
        "id": "9sRSE4Nvtdj3",
        "outputId": "2d033939-d667-4b43-af82-8f120ffff0c8"
      },
      "execution_count": 27,
      "outputs": [
        {
          "output_type": "stream",
          "name": "stdout",
          "text": [
            "+-------------------+-------------------+\n",
            "|          min(Date)|          max(Date)|\n",
            "+-------------------+-------------------+\n",
            "|2001-01-01 00:00:00|2018-11-11 00:00:00|\n",
            "+-------------------+-------------------+\n",
            "\n"
          ]
        }
      ]
    },
    {
      "cell_type": "markdown",
      "source": [
        "## Date"
      ],
      "metadata": {
        "id": "AaSlBruHttWK"
      }
    },
    {
      "cell_type": "markdown",
      "source": [
        "What is 3 days earlier that the oldest date and 3 days later than the most recent date?"
      ],
      "metadata": {
        "id": "mSjhC_4xtyDJ"
      }
    },
    {
      "cell_type": "code",
      "source": [
        "from pyspark.sql.functions import date_add, date_sub"
      ],
      "metadata": {
        "id": "iseeByedt763"
      },
      "execution_count": 28,
      "outputs": []
    },
    {
      "cell_type": "code",
      "source": [
        "help(date_add)"
      ],
      "metadata": {
        "colab": {
          "base_uri": "https://localhost:8080/"
        },
        "id": "jwaP0lPZuIPl",
        "outputId": "6a414c9e-71e9-4111-ebef-d2c964d01915"
      },
      "execution_count": 29,
      "outputs": [
        {
          "output_type": "stream",
          "name": "stdout",
          "text": [
            "Help on function date_add in module pyspark.sql.functions:\n",
            "\n",
            "date_add(start: 'ColumnOrName', days: Union[ForwardRef('ColumnOrName'), int]) -> pyspark.sql.column.Column\n",
            "    Returns the date that is `days` days after `start`. If `days` is a negative value\n",
            "    then these amount of days will be deducted from `start`.\n",
            "    \n",
            "    .. versionadded:: 1.5.0\n",
            "    \n",
            "    .. versionchanged:: 3.4.0\n",
            "        Supports Spark Connect.\n",
            "    \n",
            "    Parameters\n",
            "    ----------\n",
            "    start : :class:`~pyspark.sql.Column` or str\n",
            "        date column to work on.\n",
            "    days : :class:`~pyspark.sql.Column` or str or int\n",
            "        how many days after the given date to calculate.\n",
            "        Accepts negative value as well to calculate backwards in time.\n",
            "    \n",
            "    Returns\n",
            "    -------\n",
            "    :class:`~pyspark.sql.Column`\n",
            "        a date after/before given number of days.\n",
            "    \n",
            "    Examples\n",
            "    --------\n",
            "    >>> df = spark.createDataFrame([('2015-04-08', 2,)], ['dt', 'add'])\n",
            "    >>> df.select(date_add(df.dt, 1).alias('next_date')).collect()\n",
            "    [Row(next_date=datetime.date(2015, 4, 9))]\n",
            "    >>> df.select(date_add(df.dt, df.add.cast('integer')).alias('next_date')).collect()\n",
            "    [Row(next_date=datetime.date(2015, 4, 10))]\n",
            "    >>> df.select(date_add('dt', -1).alias('prev_date')).collect()\n",
            "    [Row(prev_date=datetime.date(2015, 4, 7))]\n",
            "\n"
          ]
        }
      ]
    },
    {
      "cell_type": "code",
      "source": [
        "rc.select(date_add(max(col('Date')),3),date_sub(min(col('Date')),3)).show(1)"
      ],
      "metadata": {
        "colab": {
          "base_uri": "https://localhost:8080/"
        },
        "id": "XoERISr4u1AE",
        "outputId": "aaf692c5-8482-4b14-a0bb-3c743e1387eb"
      },
      "execution_count": 31,
      "outputs": [
        {
          "output_type": "stream",
          "name": "stdout",
          "text": [
            "+----------------------+----------------------+\n",
            "|date_add(max(Date), 3)|date_sub(min(Date), 3)|\n",
            "+----------------------+----------------------+\n",
            "|            2018-11-14|            2000-12-29|\n",
            "+----------------------+----------------------+\n",
            "\n"
          ]
        }
      ]
    },
    {
      "cell_type": "markdown",
      "source": [
        "# Working with joins"
      ],
      "metadata": {
        "id": "cbXg3IbHvpwi"
      }
    },
    {
      "cell_type": "markdown",
      "source": [
        "## Joins"
      ],
      "metadata": {
        "id": "Va-ovyv8v-ZF"
      }
    },
    {
      "cell_type": "markdown",
      "source": [
        "**Download police station data**"
      ],
      "metadata": {
        "id": "ePC5OqPxwAN9"
      }
    },
    {
      "cell_type": "code",
      "source": [
        "!wget -O police-station.csv https://data.cityofchicago.org/api/views/z8bn-74gv/rows.csv?accessType=DOWNLOAD"
      ],
      "metadata": {
        "colab": {
          "base_uri": "https://localhost:8080/"
        },
        "id": "t4QO8hc7v3aH",
        "outputId": "18995f5d-e0d3-4a37-b55e-ba3006838df5"
      },
      "execution_count": 32,
      "outputs": [
        {
          "output_type": "stream",
          "name": "stdout",
          "text": [
            "--2023-07-24 02:36:47--  https://data.cityofchicago.org/api/views/z8bn-74gv/rows.csv?accessType=DOWNLOAD\n",
            "Resolving data.cityofchicago.org (data.cityofchicago.org)... 52.206.68.26, 52.206.140.199, 52.206.140.205\n",
            "Connecting to data.cityofchicago.org (data.cityofchicago.org)|52.206.68.26|:443... connected.\n",
            "HTTP request sent, awaiting response... 200 OK\n",
            "Length: unspecified [text/csv]\n",
            "Saving to: ‘police-station.csv’\n",
            "\n",
            "\rpolice-station.csv      [<=>                 ]       0  --.-KB/s               \rpolice-station.csv      [ <=>                ]   5.57K  --.-KB/s    in 0s      \n",
            "\n",
            "2023-07-24 02:36:48 (817 MB/s) - ‘police-station.csv’ saved [5699]\n",
            "\n"
          ]
        }
      ]
    },
    {
      "cell_type": "code",
      "source": [
        "ps = spark.read.csv('police-station.csv', header = True)\n",
        "ps.show(5)"
      ],
      "metadata": {
        "colab": {
          "base_uri": "https://localhost:8080/"
        },
        "id": "Uf0GyzhNwcx8",
        "outputId": "d5be7784-82a6-4f5a-ae76-e7ead5003d73"
      },
      "execution_count": 33,
      "outputs": [
        {
          "output_type": "stream",
          "name": "stdout",
          "text": [
            "+------------+-------------+-------------------+-------+-----+-----+--------------------+------------+------------+------------+------------+------------+-----------+------------+--------------------+\n",
            "|    DISTRICT|DISTRICT NAME|            ADDRESS|   CITY|STATE|  ZIP|             WEBSITE|       PHONE|         FAX|         TTY|X COORDINATE|Y COORDINATE|   LATITUDE|   LONGITUDE|            LOCATION|\n",
            "+------------+-------------+-------------------+-------+-----+-----+--------------------+------------+------------+------------+------------+------------+-----------+------------+--------------------+\n",
            "|Headquarters| Headquarters|3510 S Michigan Ave|Chicago|   IL|60653|http://home.chica...|        null|        null|        null| 1177731.401| 1881697.404|41.83070169|-87.62339535|(41.8307016873, -...|\n",
            "|          18|   Near North| 1160 N Larrabee St|Chicago|   IL|60610|http://home.chica...|312-742-5870|312-742-5771|312-742-5773| 1172080.029| 1908086.527|41.90324165|-87.64335214|(41.9032416531, -...|\n",
            "|          19|    Town Hall|   850 W Addison St|Chicago|   IL|60613|http://home.chica...|312-744-8320|312-744-4481|312-744-8011| 1169730.744| 1924160.317|41.94740046|-87.65151202|(41.9474004564, -...|\n",
            "|          20|      Lincoln| 5400 N Lincoln Ave|Chicago|   IL|60625|http://home.chica...|312-742-8714|312-742-8803|312-742-8841| 1158399.146| 1935788.826|41.97954951|-87.69284451|(41.9795495131, -...|\n",
            "|          22|  Morgan Park|1900 W Monterey Ave|Chicago|   IL|60643|http://home.chica...|312-745-0710|312-745-0814|312-745-0569| 1165825.476| 1830851.333|41.69143478|-87.66852039|(41.6914347795, -...|\n",
            "+------------+-------------+-------------------+-------+-----+-----+--------------------+------------+------------+------------+------------+------------+-----------+------------+--------------------+\n",
            "only showing top 5 rows\n",
            "\n"
          ]
        }
      ]
    },
    {
      "cell_type": "markdown",
      "source": [
        "**The reported crimes dataset has only the district number. Add the district name by joining with the police station dataset**"
      ],
      "metadata": {
        "id": "fb3gdUilw0nD"
      }
    },
    {
      "cell_type": "code",
      "source": [
        "rc.cache()\n",
        "rc.count()"
      ],
      "metadata": {
        "colab": {
          "base_uri": "https://localhost:8080/"
        },
        "id": "S44FHzuFw087",
        "outputId": "0fd107c7-2fe3-4406-a42f-a286664e1a91"
      },
      "execution_count": 34,
      "outputs": [
        {
          "output_type": "execute_result",
          "data": {
            "text/plain": [
              "6756294"
            ]
          },
          "metadata": {},
          "execution_count": 34
        }
      ]
    },
    {
      "cell_type": "code",
      "source": [
        "ps.select(col('DISTRICT')).distinct().show(10)"
      ],
      "metadata": {
        "colab": {
          "base_uri": "https://localhost:8080/"
        },
        "id": "ru5OoMJDx5Ua",
        "outputId": "c6d8eeda-bdd6-4441-9744-cf2d30e87902"
      },
      "execution_count": 35,
      "outputs": [
        {
          "output_type": "stream",
          "name": "stdout",
          "text": [
            "+--------+\n",
            "|DISTRICT|\n",
            "+--------+\n",
            "|       7|\n",
            "|      15|\n",
            "|      11|\n",
            "|       3|\n",
            "|       8|\n",
            "|      22|\n",
            "|      16|\n",
            "|       5|\n",
            "|      18|\n",
            "|      17|\n",
            "+--------+\n",
            "only showing top 10 rows\n",
            "\n"
          ]
        }
      ]
    },
    {
      "cell_type": "code",
      "source": [
        "rc.select('District').distinct().show(10)"
      ],
      "metadata": {
        "colab": {
          "base_uri": "https://localhost:8080/"
        },
        "id": "qsz3P0GuyD5P",
        "outputId": "599df0d1-ae38-475c-b8e8-977f376dde07"
      },
      "execution_count": 36,
      "outputs": [
        {
          "output_type": "stream",
          "name": "stdout",
          "text": [
            "+--------+\n",
            "|District|\n",
            "+--------+\n",
            "|     009|\n",
            "|     012|\n",
            "|     024|\n",
            "|     031|\n",
            "|     015|\n",
            "|     006|\n",
            "|     019|\n",
            "|     020|\n",
            "|     011|\n",
            "|     025|\n",
            "+--------+\n",
            "only showing top 10 rows\n",
            "\n"
          ]
        }
      ]
    },
    {
      "cell_type": "code",
      "source": [
        "from pyspark.sql.functions import lpad"
      ],
      "metadata": {
        "id": "0buMwciCyWdz"
      },
      "execution_count": 37,
      "outputs": []
    },
    {
      "cell_type": "code",
      "source": [
        "help(lpad)"
      ],
      "metadata": {
        "colab": {
          "base_uri": "https://localhost:8080/"
        },
        "id": "QNu4kSIeyils",
        "outputId": "c9ec5ae7-7812-4adf-ab83-4c48bab0e4b7"
      },
      "execution_count": 38,
      "outputs": [
        {
          "output_type": "stream",
          "name": "stdout",
          "text": [
            "Help on function lpad in module pyspark.sql.functions:\n",
            "\n",
            "lpad(col: 'ColumnOrName', len: int, pad: str) -> pyspark.sql.column.Column\n",
            "    Left-pad the string column to width `len` with `pad`.\n",
            "    \n",
            "    .. versionadded:: 1.5.0\n",
            "    \n",
            "    .. versionchanged:: 3.4.0\n",
            "        Supports Spark Connect.\n",
            "    \n",
            "    Parameters\n",
            "    ----------\n",
            "    col : :class:`~pyspark.sql.Column` or str\n",
            "        target column to work on.\n",
            "    len : int\n",
            "        length of the final string.\n",
            "    pad : str\n",
            "        chars to prepend.\n",
            "    \n",
            "    Returns\n",
            "    -------\n",
            "    :class:`~pyspark.sql.Column`\n",
            "        left padded result.\n",
            "    \n",
            "    Examples\n",
            "    --------\n",
            "    >>> df = spark.createDataFrame([('abcd',)], ['s',])\n",
            "    >>> df.select(lpad(df.s, 6, '#').alias('s')).collect()\n",
            "    [Row(s='##abcd')]\n",
            "\n"
          ]
        }
      ]
    },
    {
      "cell_type": "markdown",
      "source": [
        "Append leading 0"
      ],
      "metadata": {
        "id": "5CJ-zW0czQZi"
      }
    },
    {
      "cell_type": "code",
      "source": [
        "ps.select(lpad(col('DISTRICT'),3,'0')).show()"
      ],
      "metadata": {
        "colab": {
          "base_uri": "https://localhost:8080/"
        },
        "id": "qR6ExlXNzCAO",
        "outputId": "c79f90ef-de56-4aa2-85f4-c718877f1798"
      },
      "execution_count": 39,
      "outputs": [
        {
          "output_type": "stream",
          "name": "stdout",
          "text": [
            "+--------------------+\n",
            "|lpad(DISTRICT, 3, 0)|\n",
            "+--------------------+\n",
            "|                 Hea|\n",
            "|                 018|\n",
            "|                 019|\n",
            "|                 020|\n",
            "|                 022|\n",
            "|                 024|\n",
            "|                 025|\n",
            "|                 001|\n",
            "|                 002|\n",
            "|                 003|\n",
            "|                 004|\n",
            "|                 005|\n",
            "|                 006|\n",
            "|                 007|\n",
            "|                 008|\n",
            "|                 009|\n",
            "|                 010|\n",
            "|                 011|\n",
            "|                 012|\n",
            "|                 \",C|\n",
            "+--------------------+\n",
            "only showing top 20 rows\n",
            "\n"
          ]
        }
      ]
    },
    {
      "cell_type": "code",
      "source": [
        "ps = ps.withColumn('Format_district', lpad(col('DISTRICT'),3,'0'))\n",
        "ps.show(5)"
      ],
      "metadata": {
        "colab": {
          "base_uri": "https://localhost:8080/"
        },
        "id": "UN1-ffNqzYGQ",
        "outputId": "78428d4d-f8b7-4dee-cedf-c95db0d88048"
      },
      "execution_count": 40,
      "outputs": [
        {
          "output_type": "stream",
          "name": "stdout",
          "text": [
            "+------------+-------------+-------------------+-------+-----+-----+--------------------+------------+------------+------------+------------+------------+-----------+------------+--------------------+---------------+\n",
            "|    DISTRICT|DISTRICT NAME|            ADDRESS|   CITY|STATE|  ZIP|             WEBSITE|       PHONE|         FAX|         TTY|X COORDINATE|Y COORDINATE|   LATITUDE|   LONGITUDE|            LOCATION|Format_district|\n",
            "+------------+-------------+-------------------+-------+-----+-----+--------------------+------------+------------+------------+------------+------------+-----------+------------+--------------------+---------------+\n",
            "|Headquarters| Headquarters|3510 S Michigan Ave|Chicago|   IL|60653|http://home.chica...|        null|        null|        null| 1177731.401| 1881697.404|41.83070169|-87.62339535|(41.8307016873, -...|            Hea|\n",
            "|          18|   Near North| 1160 N Larrabee St|Chicago|   IL|60610|http://home.chica...|312-742-5870|312-742-5771|312-742-5773| 1172080.029| 1908086.527|41.90324165|-87.64335214|(41.9032416531, -...|            018|\n",
            "|          19|    Town Hall|   850 W Addison St|Chicago|   IL|60613|http://home.chica...|312-744-8320|312-744-4481|312-744-8011| 1169730.744| 1924160.317|41.94740046|-87.65151202|(41.9474004564, -...|            019|\n",
            "|          20|      Lincoln| 5400 N Lincoln Ave|Chicago|   IL|60625|http://home.chica...|312-742-8714|312-742-8803|312-742-8841| 1158399.146| 1935788.826|41.97954951|-87.69284451|(41.9795495131, -...|            020|\n",
            "|          22|  Morgan Park|1900 W Monterey Ave|Chicago|   IL|60643|http://home.chica...|312-745-0710|312-745-0814|312-745-0569| 1165825.476| 1830851.333|41.69143478|-87.66852039|(41.6914347795, -...|            022|\n",
            "+------------+-------------+-------------------+-------+-----+-----+--------------------+------------+------------+------------+------------+------------+-----------+------------+--------------------+---------------+\n",
            "only showing top 5 rows\n",
            "\n"
          ]
        }
      ]
    },
    {
      "cell_type": "code",
      "source": [
        "rc.join(ps, rc.District == ps.Format_district, 'left_outer').show()"
      ],
      "metadata": {
        "colab": {
          "base_uri": "https://localhost:8080/"
        },
        "id": "BONn9R6Hz0ql",
        "outputId": "88f36aa3-4390-42a0-fd2a-df217b7ad7bf"
      },
      "execution_count": 41,
      "outputs": [
        {
          "output_type": "stream",
          "name": "stdout",
          "text": [
            "+--------+-----------+-------------------+--------------------+----+--------------------+--------------------+--------------------+------+--------+----+--------+----+--------------+--------+------------+------------+----+--------------------+------------+-------------+--------------------+--------+--------------+--------------------+-------+-----+-----+--------------------+------------+------------+------------+------------+------------+-----------+------------+--------------------+---------------+\n",
            "|      ID|Case Number|               Date|               Block|IUCR|        Primary Type|         Description|Location Description|Arrest|Domestic|Beat|District|Ward|Community Area|FBI Code|X Coordinate|Y Coordinate|Year|          Updated On|    Latitude|    Longitude|            Location|DISTRICT| DISTRICT NAME|             ADDRESS|   CITY|STATE|  ZIP|             WEBSITE|       PHONE|         FAX|         TTY|X COORDINATE|Y COORDINATE|   LATITUDE|   LONGITUDE|            LOCATION|Format_district|\n",
            "+--------+-----------+-------------------+--------------------+----+--------------------+--------------------+--------------------+------+--------+----+--------+----+--------------+--------+------------+------------+----+--------------------+------------+-------------+--------------------+--------+--------------+--------------------+-------+-----+-----+--------------------+------------+------------+------------+------------+------------+-----------+------------+--------------------+---------------+\n",
            "|11646166|   JC213529|2018-09-01 00:01:00|082XX S INGLESIDE...|0810|               THEFT|           OVER $500|           RESIDENCE| false|    true|0631|     006|   8|            44|      06|        null|        null|2018|04/06/2019 04:04:...|        null|         null|                null|       6|       Gresham|   7808 S Halsted St|Chicago|   IL|60620|http://home.chica...|312-745-3617|312-745-3649|312-745-3639| 1172283.013| 1853022.646|41.75213684|-87.64422891|(41.7521368378, -...|            006|\n",
            "|11645836|   JC212333|2016-05-01 00:25:00| 055XX S ROCKWELL ST|1153|  DECEPTIVE PRACTICE|FINANCIAL IDENTIT...|                null| false|   false|0824|     008|  15|            63|      11|        null|        null|2016|04/06/2019 04:04:...|        null|         null|                null|       8|  Chicago Lawn|      3420 W 63rd St|Chicago|   IL|60629|http://home.chica...|312-747-8730|312-747-8545|312-747-8116| 1154575.242| 1862672.049|41.77898719|-87.70886382|(41.778987189, -8...|            008|\n",
            "|11449702|   JB373031|2018-07-31 13:30:00|009XX E HYDE PARK...|2024|           NARCOTICS| POSS: HEROIN(WHITE)|              STREET|  true|   false|0233|     002|   5|            41|      18|        null|        null|2018|04/09/2019 04:24:...|        null|         null|                null|       2|     Wentworth|5101 S Wentworth Ave|Chicago|   IL|60609|http://home.chica...|312-747-8366|312-747-5396|312-747-6656| 1175864.837| 1871153.753|41.80181109|-87.63056018|(41.8018110912, -...|            002|\n",
            "|11645527|   JC212744|2015-02-02 10:00:00|  069XX W ARCHER AVE|1153|  DECEPTIVE PRACTICE|FINANCIAL IDENTIT...|               OTHER| false|   false|0811|     008|  23|            56|      11|        null|        null|2015|04/06/2019 04:04:...|        null|         null|                null|       8|  Chicago Lawn|      3420 W 63rd St|Chicago|   IL|60629|http://home.chica...|312-747-8730|312-747-8545|312-747-8116| 1154575.242| 1862672.049|41.77898719|-87.70886382|(41.778987189, -8...|            008|\n",
            "|11034701|   JA366925|2001-01-01 11:00:00|     016XX E 86TH PL|1153|  DECEPTIVE PRACTICE|FINANCIAL IDENTIT...|           RESIDENCE| false|   false|0412|     004|   8|            45|      11|        null|        null|2001|08/05/2017 03:50:...|        null|         null|                null|       4| South Chicago|     2255 E 103rd St|Chicago|   IL|60617|http://home.chica...|312-747-7581|312-747-5276|312-747-9169| 1193131.299| 1837090.265|41.70793329|-87.56834912|(41.7079332906, -...|            004|\n",
            "|10224881|   HY411873|2015-09-03 18:00:00|044XX S UNIVERSIT...|1310|     CRIMINAL DAMAGE|         TO PROPERTY|           RESIDENCE| false|   false|0222|     002|   4|            39|      14|     1184667|     1875669|2015|02/10/2018 03:50:...| 41.81399924|-87.598137918|(41.81399924, -87...|       2|     Wentworth|5101 S Wentworth Ave|Chicago|   IL|60609|http://home.chica...|312-747-8366|312-747-5396|312-747-6656| 1175864.837| 1871153.753|41.80181109|-87.63056018|(41.8018110912, -...|            002|\n",
            "|11230640|   JB152083|2017-12-04 00:00:00|035XX S MICHIGAN AVE|4650|       OTHER OFFENSE|SEX OFFENDER: FAI...|GOVERNMENT BUILDI...|  true|   false|0213|     002|   3|            35|      26|        null|        null|2017|04/12/2018 03:55:...|        null|         null|                null|       2|     Wentworth|5101 S Wentworth Ave|Chicago|   IL|60609|http://home.chica...|312-747-8366|312-747-5396|312-747-6656| 1175864.837| 1871153.753|41.80181109|-87.63056018|(41.8018110912, -...|            002|\n",
            "|11645648|   JC212959|2018-01-01 08:00:00| 024XX N MONITOR AVE|1153|  DECEPTIVE PRACTICE|FINANCIAL IDENTIT...|           RESIDENCE| false|   false|2515|     025|  30|            19|      11|        null|        null|2018|04/06/2019 04:04:...|        null|         null|                null|      25| Grand Central|    5555 W Grand Ave|Chicago|   IL|60639|http://home.chica...|312-746-8605|312-746-4353|312-746-8383| 1138770.871| 1913442.439|41.91860889|-87.76557448|(41.9186088912, -...|            025|\n",
            "|11645557|   JC212685|2018-04-01 00:01:00|  080XX S VERNON AVE|1153|  DECEPTIVE PRACTICE|FINANCIAL IDENTIT...|           RESIDENCE| false|   false|0631|     006|   6|            44|      11|        null|        null|2018|04/06/2019 04:04:...|        null|         null|                null|       6|       Gresham|   7808 S Halsted St|Chicago|   IL|60620|http://home.chica...|312-745-3617|312-745-3649|312-745-3639| 1172283.013| 1853022.646|41.75213684|-87.64422891|(41.7521368378, -...|            006|\n",
            "|10225155|   HY412177|2015-09-05 22:42:00|007XX W IRVING PA...|0470|PUBLIC PEACE VIOL...|    RECKLESS CONDUCT|              STREET|  true|   false|1915|     019|  46|             3|      24|     1170563|     1926785|2015|02/10/2018 03:50:...|41.954584472|-87.648375776|(41.954584472, -8...|      19|     Town Hall|    850 W Addison St|Chicago|   IL|60613|http://home.chica...|312-744-8320|312-744-4481|312-744-8011| 1169730.744| 1924160.317|41.94740046|-87.65151202|(41.9474004564, -...|            019|\n",
            "|11223717|   JB141803|2018-02-04 15:25:00|044XX W WASHINGTO...|1153|  DECEPTIVE PRACTICE|FINANCIAL IDENTIT...|                null| false|   false|1113|     011|  28|            26|      11|        null|        null|2018|02/11/2018 03:57:...|        null|         null|                null|      11|      Harrison|  3151 W Harrison St|Chicago|   IL|60612|http://home.chica...|312-746-8386|312-746-4281|312-746-5151| 1155244.069| 1897148.755|41.87358229|-87.70548813|(41.8735822883, -...|            011|\n",
            "|11160773|   JA515078|2017-11-17 09:45:00| 033XX W FILLMORE ST|1812|           NARCOTICS|POSS: CANNABIS MO...|POLICE FACILITY/V...|  true|   false|1134|     011|  24|            29|      18|        null|        null|2017|02/17/2018 03:52:...|        null|         null|                null|      11|      Harrison|  3151 W Harrison St|Chicago|   IL|60612|http://home.chica...|312-746-8386|312-746-4281|312-746-5151| 1155244.069| 1897148.755|41.87358229|-87.70548813|(41.8735822883, -...|            011|\n",
            "|11645601|   JC212935|2014-06-01 00:01:00| 087XX S SANGAMON ST|1153|  DECEPTIVE PRACTICE|FINANCIAL IDENTIT...|           RESIDENCE| false|   false|2222|     022|  21|            71|      11|        null|        null|2014|04/06/2019 04:04:...|        null|         null|                null|      22|   Morgan Park| 1900 W Monterey Ave|Chicago|   IL|60643|http://home.chica...|312-745-0710|312-745-0814|312-745-0569| 1165825.476| 1830851.333|41.69143478|-87.66852039|(41.6914347795, -...|            022|\n",
            "|10225206|   HY412253|2015-09-06 01:10:00|    047XX S STATE ST|041A|             BATTERY| AGGRAVATED: HANDGUN|     VACANT LOT/LAND| false|   false|0224|     002|   3|            38|     04B|     1177070|     1873609|2015|02/10/2018 03:50:...| 41.80852139| -87.62606631|(41.80852139, -87...|       2|     Wentworth|5101 S Wentworth Ave|Chicago|   IL|60609|http://home.chica...|312-747-8366|312-747-5396|312-747-6656| 1175864.837| 1871153.753|41.80181109|-87.63056018|(41.8018110912, -...|            002|\n",
            "|10225234|   HY412306|2015-09-06 02:00:00|002XX N ST LOUIS AVE|0420|             BATTERY|AGGRAVATED:KNIFE/...|            SIDEWALK| false|   false|1123|     011|  28|            27|     04B|     1153006|     1901570|2015|02/10/2018 03:50:...|41.885759278|-87.713588042|(41.885759278, -8...|      11|      Harrison|  3151 W Harrison St|Chicago|   IL|60612|http://home.chica...|312-746-8386|312-746-4281|312-746-5151| 1155244.069| 1897148.755|41.87358229|-87.70548813|(41.8735822883, -...|            011|\n",
            "|11645833|   JC213044|2012-05-05 12:25:00|     057XX W OHIO ST|1153|  DECEPTIVE PRACTICE|FINANCIAL IDENTIT...|                null| false|   false|1511|     015|  29|            25|      11|        null|        null|2012|04/06/2019 04:04:...|        null|         null|                null|      15|        Austin|   5701 W Madison St|Chicago|   IL|60644|http://home.chica...|312-743-1440|312-743-1366|312-743-1485| 1138148.815| 1899399.078|41.88008346|-87.76819989|(41.8800834614, -...|            015|\n",
            "|11227287|   JB147188|2017-10-08 03:00:00|  092XX S RACINE AVE|0281| CRIM SEXUAL ASSAULT|      NON-AGGRAVATED|           RESIDENCE| false|   false|2222|     022|  21|            73|      02|        null|        null|2017|02/11/2018 03:57:...|        null|         null|                null|      22|   Morgan Park| 1900 W Monterey Ave|Chicago|   IL|60643|http://home.chica...|312-745-0710|312-745-0814|312-745-0569| 1165825.476| 1830851.333|41.69143478|-87.66852039|(41.6914347795, -...|            022|\n",
            "|11227583|   JB147595|2017-03-28 14:00:00|     026XX W 79TH ST|0620|            BURGLARY|      UNLAWFUL ENTRY|               OTHER| false|   false|0835|     008|  18|            70|      05|        null|        null|2017|02/11/2018 03:57:...|        null|         null|                null|       8|  Chicago Lawn|      3420 W 63rd St|Chicago|   IL|60629|http://home.chica...|312-747-8730|312-747-8545|312-747-8116| 1154575.242| 1862672.049|41.77898719|-87.70886382|(41.778987189, -8...|            008|\n",
            "|11227293|   JB147230|2017-09-09 20:17:00|060XX S EBERHART AVE|0810|               THEFT|           OVER $500|           RESIDENCE| false|   false|0313|     003|  20|            42|      06|        null|        null|2017|02/11/2018 03:57:...|        null|         null|                null|       3|Grand Crossing|7040 S Cottage Gr...|Chicago|   IL|60637|http://home.chica...|312-747-8201|312-747-5479|312-747-9168| 1182739.183| 1858317.732|41.76643089|-87.60574786|(41.7664308925, -...|            003|\n",
            "|11227634|   JB147599|2017-08-26 10:00:00| 001XX W RANDOLPH ST|0281| CRIM SEXUAL ASSAULT|      NON-AGGRAVATED|         HOTEL/MOTEL| false|   false|0122|     001|  42|            32|      02|        null|        null|2017|02/11/2018 03:57:...|        null|         null|                null|       1|       Central|     1718 S State St|Chicago|   IL|60616|http://home.chica...|312-745-4290|312-745-3694|312-745-3693| 1176569.052| 1891771.704|41.85837259|-87.62735617|(41.8583725929, -...|            001|\n",
            "+--------+-----------+-------------------+--------------------+----+--------------------+--------------------+--------------------+------+--------+----+--------+----+--------------+--------+------------+------------+----+--------------------+------------+-------------+--------------------+--------+--------------+--------------------+-------+-----+-----+--------------------+------------+------------+------------+------------+------------+-----------+------------+--------------------+---------------+\n",
            "only showing top 20 rows\n",
            "\n"
          ]
        }
      ]
    },
    {
      "cell_type": "code",
      "source": [
        "ps.columns"
      ],
      "metadata": {
        "colab": {
          "base_uri": "https://localhost:8080/"
        },
        "id": "CskOu66x0MdY",
        "outputId": "3c3c57ef-7ad9-4143-89dd-2b89f5d86b36"
      },
      "execution_count": 42,
      "outputs": [
        {
          "output_type": "execute_result",
          "data": {
            "text/plain": [
              "['DISTRICT',\n",
              " 'DISTRICT NAME',\n",
              " 'ADDRESS',\n",
              " 'CITY',\n",
              " 'STATE',\n",
              " 'ZIP',\n",
              " 'WEBSITE',\n",
              " 'PHONE',\n",
              " 'FAX',\n",
              " 'TTY',\n",
              " 'X COORDINATE',\n",
              " 'Y COORDINATE',\n",
              " 'LATITUDE',\n",
              " 'LONGITUDE',\n",
              " 'LOCATION',\n",
              " 'Format_district']"
            ]
          },
          "metadata": {},
          "execution_count": 42
        }
      ]
    },
    {
      "cell_type": "code",
      "source": [
        "rc.join(ps, rc.District == ps.Format_district, 'left_outer').drop(\n",
        " 'ADDRESS',\n",
        " 'CITY',\n",
        " 'STATE',\n",
        " 'ZIP',\n",
        " 'WEBSITE',\n",
        " 'PHONE',\n",
        " 'FAX',\n",
        " 'TTY',\n",
        " 'X COORDINATE',\n",
        " 'Y COORDINATE',\n",
        " 'LATITUDE',\n",
        " 'LONGITUDE',\n",
        " 'LOCATION'\n",
        ").show()"
      ],
      "metadata": {
        "colab": {
          "base_uri": "https://localhost:8080/"
        },
        "id": "oJLhC6vd0THY",
        "outputId": "f0d1a603-daef-42f5-db55-1d3d29f5f685"
      },
      "execution_count": 44,
      "outputs": [
        {
          "output_type": "stream",
          "name": "stdout",
          "text": [
            "+--------+-----------+-------------------+--------------------+----+--------------------+--------------------+--------------------+------+--------+----+--------+----+--------------+--------+----+--------------------+--------+--------------+---------------+\n",
            "|      ID|Case Number|               Date|               Block|IUCR|        Primary Type|         Description|Location Description|Arrest|Domestic|Beat|District|Ward|Community Area|FBI Code|Year|          Updated On|DISTRICT| DISTRICT NAME|Format_district|\n",
            "+--------+-----------+-------------------+--------------------+----+--------------------+--------------------+--------------------+------+--------+----+--------+----+--------------+--------+----+--------------------+--------+--------------+---------------+\n",
            "|11646166|   JC213529|2018-09-01 00:01:00|082XX S INGLESIDE...|0810|               THEFT|           OVER $500|           RESIDENCE| false|    true|0631|     006|   8|            44|      06|2018|04/06/2019 04:04:...|       6|       Gresham|            006|\n",
            "|11645836|   JC212333|2016-05-01 00:25:00| 055XX S ROCKWELL ST|1153|  DECEPTIVE PRACTICE|FINANCIAL IDENTIT...|                null| false|   false|0824|     008|  15|            63|      11|2016|04/06/2019 04:04:...|       8|  Chicago Lawn|            008|\n",
            "|11449702|   JB373031|2018-07-31 13:30:00|009XX E HYDE PARK...|2024|           NARCOTICS| POSS: HEROIN(WHITE)|              STREET|  true|   false|0233|     002|   5|            41|      18|2018|04/09/2019 04:24:...|       2|     Wentworth|            002|\n",
            "|11645527|   JC212744|2015-02-02 10:00:00|  069XX W ARCHER AVE|1153|  DECEPTIVE PRACTICE|FINANCIAL IDENTIT...|               OTHER| false|   false|0811|     008|  23|            56|      11|2015|04/06/2019 04:04:...|       8|  Chicago Lawn|            008|\n",
            "|11034701|   JA366925|2001-01-01 11:00:00|     016XX E 86TH PL|1153|  DECEPTIVE PRACTICE|FINANCIAL IDENTIT...|           RESIDENCE| false|   false|0412|     004|   8|            45|      11|2001|08/05/2017 03:50:...|       4| South Chicago|            004|\n",
            "|10224881|   HY411873|2015-09-03 18:00:00|044XX S UNIVERSIT...|1310|     CRIMINAL DAMAGE|         TO PROPERTY|           RESIDENCE| false|   false|0222|     002|   4|            39|      14|2015|02/10/2018 03:50:...|       2|     Wentworth|            002|\n",
            "|11230640|   JB152083|2017-12-04 00:00:00|035XX S MICHIGAN AVE|4650|       OTHER OFFENSE|SEX OFFENDER: FAI...|GOVERNMENT BUILDI...|  true|   false|0213|     002|   3|            35|      26|2017|04/12/2018 03:55:...|       2|     Wentworth|            002|\n",
            "|11645648|   JC212959|2018-01-01 08:00:00| 024XX N MONITOR AVE|1153|  DECEPTIVE PRACTICE|FINANCIAL IDENTIT...|           RESIDENCE| false|   false|2515|     025|  30|            19|      11|2018|04/06/2019 04:04:...|      25| Grand Central|            025|\n",
            "|11645557|   JC212685|2018-04-01 00:01:00|  080XX S VERNON AVE|1153|  DECEPTIVE PRACTICE|FINANCIAL IDENTIT...|           RESIDENCE| false|   false|0631|     006|   6|            44|      11|2018|04/06/2019 04:04:...|       6|       Gresham|            006|\n",
            "|10225155|   HY412177|2015-09-05 22:42:00|007XX W IRVING PA...|0470|PUBLIC PEACE VIOL...|    RECKLESS CONDUCT|              STREET|  true|   false|1915|     019|  46|             3|      24|2015|02/10/2018 03:50:...|      19|     Town Hall|            019|\n",
            "|11223717|   JB141803|2018-02-04 15:25:00|044XX W WASHINGTO...|1153|  DECEPTIVE PRACTICE|FINANCIAL IDENTIT...|                null| false|   false|1113|     011|  28|            26|      11|2018|02/11/2018 03:57:...|      11|      Harrison|            011|\n",
            "|11160773|   JA515078|2017-11-17 09:45:00| 033XX W FILLMORE ST|1812|           NARCOTICS|POSS: CANNABIS MO...|POLICE FACILITY/V...|  true|   false|1134|     011|  24|            29|      18|2017|02/17/2018 03:52:...|      11|      Harrison|            011|\n",
            "|11645601|   JC212935|2014-06-01 00:01:00| 087XX S SANGAMON ST|1153|  DECEPTIVE PRACTICE|FINANCIAL IDENTIT...|           RESIDENCE| false|   false|2222|     022|  21|            71|      11|2014|04/06/2019 04:04:...|      22|   Morgan Park|            022|\n",
            "|10225206|   HY412253|2015-09-06 01:10:00|    047XX S STATE ST|041A|             BATTERY| AGGRAVATED: HANDGUN|     VACANT LOT/LAND| false|   false|0224|     002|   3|            38|     04B|2015|02/10/2018 03:50:...|       2|     Wentworth|            002|\n",
            "|10225234|   HY412306|2015-09-06 02:00:00|002XX N ST LOUIS AVE|0420|             BATTERY|AGGRAVATED:KNIFE/...|            SIDEWALK| false|   false|1123|     011|  28|            27|     04B|2015|02/10/2018 03:50:...|      11|      Harrison|            011|\n",
            "|11645833|   JC213044|2012-05-05 12:25:00|     057XX W OHIO ST|1153|  DECEPTIVE PRACTICE|FINANCIAL IDENTIT...|                null| false|   false|1511|     015|  29|            25|      11|2012|04/06/2019 04:04:...|      15|        Austin|            015|\n",
            "|11227287|   JB147188|2017-10-08 03:00:00|  092XX S RACINE AVE|0281| CRIM SEXUAL ASSAULT|      NON-AGGRAVATED|           RESIDENCE| false|   false|2222|     022|  21|            73|      02|2017|02/11/2018 03:57:...|      22|   Morgan Park|            022|\n",
            "|11227583|   JB147595|2017-03-28 14:00:00|     026XX W 79TH ST|0620|            BURGLARY|      UNLAWFUL ENTRY|               OTHER| false|   false|0835|     008|  18|            70|      05|2017|02/11/2018 03:57:...|       8|  Chicago Lawn|            008|\n",
            "|11227293|   JB147230|2017-09-09 20:17:00|060XX S EBERHART AVE|0810|               THEFT|           OVER $500|           RESIDENCE| false|   false|0313|     003|  20|            42|      06|2017|02/11/2018 03:57:...|       3|Grand Crossing|            003|\n",
            "|11227634|   JB147599|2017-08-26 10:00:00| 001XX W RANDOLPH ST|0281| CRIM SEXUAL ASSAULT|      NON-AGGRAVATED|         HOTEL/MOTEL| false|   false|0122|     001|  42|            32|      02|2017|02/11/2018 03:57:...|       1|       Central|            001|\n",
            "+--------+-----------+-------------------+--------------------+----+--------------------+--------------------+--------------------+------+--------+----+--------+----+--------------+--------+----+--------------------+--------+--------------+---------------+\n",
            "only showing top 20 rows\n",
            "\n"
          ]
        }
      ]
    },
    {
      "cell_type": "markdown",
      "source": [
        "## Find the most frequently reported noncriminal activity"
      ],
      "metadata": {
        "id": "E-7ysHgn1EQu"
      }
    },
    {
      "cell_type": "code",
      "source": [
        "rc.cache()\n",
        "rc.count()"
      ],
      "metadata": {
        "colab": {
          "base_uri": "https://localhost:8080/"
        },
        "id": "Q7R24wFO1hnL",
        "outputId": "ec13be3b-3950-4cf2-aafc-ab4b39a8be35"
      },
      "execution_count": 45,
      "outputs": [
        {
          "output_type": "execute_result",
          "data": {
            "text/plain": [
              "6756294"
            ]
          },
          "metadata": {},
          "execution_count": 45
        }
      ]
    },
    {
      "cell_type": "code",
      "source": [
        "rc.show(5)"
      ],
      "metadata": {
        "colab": {
          "base_uri": "https://localhost:8080/"
        },
        "id": "qKGk4MsJ3rNB",
        "outputId": "1a51f2e0-d663-4085-a460-f452962bc59b"
      },
      "execution_count": 46,
      "outputs": [
        {
          "output_type": "stream",
          "name": "stdout",
          "text": [
            "+--------+-----------+-------------------+--------------------+----+------------------+--------------------+--------------------+------+--------+----+--------+----+--------------+--------+------------+------------+----+--------------------+--------+---------+--------+\n",
            "|      ID|Case Number|               Date|               Block|IUCR|      Primary Type|         Description|Location Description|Arrest|Domestic|Beat|District|Ward|Community Area|FBI Code|X Coordinate|Y Coordinate|Year|          Updated On|Latitude|Longitude|Location|\n",
            "+--------+-----------+-------------------+--------------------+----+------------------+--------------------+--------------------+------+--------+----+--------+----+--------------+--------+------------+------------+----+--------------------+--------+---------+--------+\n",
            "|11646166|   JC213529|2018-09-01 00:01:00|082XX S INGLESIDE...|0810|             THEFT|           OVER $500|           RESIDENCE| false|    true|0631|     006|   8|            44|      06|        null|        null|2018|04/06/2019 04:04:...|    null|     null|    null|\n",
            "|11645836|   JC212333|2016-05-01 00:25:00| 055XX S ROCKWELL ST|1153|DECEPTIVE PRACTICE|FINANCIAL IDENTIT...|                null| false|   false|0824|     008|  15|            63|      11|        null|        null|2016|04/06/2019 04:04:...|    null|     null|    null|\n",
            "|11449702|   JB373031|2018-07-31 13:30:00|009XX E HYDE PARK...|2024|         NARCOTICS| POSS: HEROIN(WHITE)|              STREET|  true|   false|0233|     002|   5|            41|      18|        null|        null|2018|04/09/2019 04:24:...|    null|     null|    null|\n",
            "|11645527|   JC212744|2015-02-02 10:00:00|  069XX W ARCHER AVE|1153|DECEPTIVE PRACTICE|FINANCIAL IDENTIT...|               OTHER| false|   false|0811|     008|  23|            56|      11|        null|        null|2015|04/06/2019 04:04:...|    null|     null|    null|\n",
            "|11034701|   JA366925|2001-01-01 11:00:00|     016XX E 86TH PL|1153|DECEPTIVE PRACTICE|FINANCIAL IDENTIT...|           RESIDENCE| false|   false|0412|     004|   8|            45|      11|        null|        null|2001|08/05/2017 03:50:...|    null|     null|    null|\n",
            "+--------+-----------+-------------------+--------------------+----+------------------+--------------------+--------------------+------+--------+----+--------+----+--------------+--------+------------+------------+----+--------------------+--------+---------+--------+\n",
            "only showing top 5 rows\n",
            "\n"
          ]
        }
      ]
    },
    {
      "cell_type": "code",
      "source": [
        "rc.select(col('Primary Type')).distinct().count()"
      ],
      "metadata": {
        "colab": {
          "base_uri": "https://localhost:8080/"
        },
        "id": "mGq1MbLu3wz6",
        "outputId": "5d62bfb3-c033-4432-b2d5-4214454fb2c5"
      },
      "execution_count": 48,
      "outputs": [
        {
          "output_type": "execute_result",
          "data": {
            "text/plain": [
              "36"
            ]
          },
          "metadata": {},
          "execution_count": 48
        }
      ]
    },
    {
      "cell_type": "code",
      "source": [
        "rc.select(col('Primary Type')).distinct().orderBy(col('Primary Type')).show(36,truncate = False)"
      ],
      "metadata": {
        "colab": {
          "base_uri": "https://localhost:8080/"
        },
        "id": "m7DxRBAH4KFU",
        "outputId": "58fd37fe-2563-44b2-8d64-495c1bf83d87"
      },
      "execution_count": 54,
      "outputs": [
        {
          "output_type": "stream",
          "name": "stdout",
          "text": [
            "+---------------------------------+\n",
            "|Primary Type                     |\n",
            "+---------------------------------+\n",
            "|ARSON                            |\n",
            "|ASSAULT                          |\n",
            "|BATTERY                          |\n",
            "|BURGLARY                         |\n",
            "|CONCEALED CARRY LICENSE VIOLATION|\n",
            "|CRIM SEXUAL ASSAULT              |\n",
            "|CRIMINAL DAMAGE                  |\n",
            "|CRIMINAL SEXUAL ASSAULT          |\n",
            "|CRIMINAL TRESPASS                |\n",
            "|DECEPTIVE PRACTICE               |\n",
            "|DOMESTIC VIOLENCE                |\n",
            "|GAMBLING                         |\n",
            "|HOMICIDE                         |\n",
            "|HUMAN TRAFFICKING                |\n",
            "|INTERFERENCE WITH PUBLIC OFFICER |\n",
            "|INTIMIDATION                     |\n",
            "|KIDNAPPING                       |\n",
            "|LIQUOR LAW VIOLATION             |\n",
            "|MOTOR VEHICLE THEFT              |\n",
            "|NARCOTICS                        |\n",
            "|NON - CRIMINAL                   |\n",
            "|NON-CRIMINAL                     |\n",
            "|NON-CRIMINAL (SUBJECT SPECIFIED) |\n",
            "|OBSCENITY                        |\n",
            "|OFFENSE INVOLVING CHILDREN       |\n",
            "|OTHER NARCOTIC VIOLATION         |\n",
            "|OTHER OFFENSE                    |\n",
            "|PROSTITUTION                     |\n",
            "|PUBLIC INDECENCY                 |\n",
            "|PUBLIC PEACE VIOLATION           |\n",
            "|RITUALISM                        |\n",
            "|ROBBERY                          |\n",
            "|SEX OFFENSE                      |\n",
            "|STALKING                         |\n",
            "|THEFT                            |\n",
            "|WEAPONS VIOLATION                |\n",
            "+---------------------------------+\n",
            "\n"
          ]
        }
      ]
    },
    {
      "cell_type": "markdown",
      "source": [
        "non-criminal"
      ],
      "metadata": {
        "id": "k7BnSIoM5aMV"
      }
    },
    {
      "cell_type": "code",
      "source": [
        "nc = rc.filter((col('Primary Type') == 'NON - CRIMINAL')|(col('Primary Type') == 'NON-CRIMINAL')|(col('Primary Type') == 'NON-CRIMINAL (SUBJECT SPECIFIED)'))\n",
        "nc.show(50)"
      ],
      "metadata": {
        "colab": {
          "base_uri": "https://localhost:8080/"
        },
        "id": "L0cadIiU5YG1",
        "outputId": "f6591270-259a-4ffd-81fd-7b65621d3e26"
      },
      "execution_count": 56,
      "outputs": [
        {
          "output_type": "stream",
          "name": "stdout",
          "text": [
            "+--------+-----------+-------------------+--------------------+----+--------------------+--------------------+--------------------+------+--------+----+--------+----+--------------+--------+------------+------------+----+--------------------+------------+-------------+--------------------+\n",
            "|      ID|Case Number|               Date|               Block|IUCR|        Primary Type|         Description|Location Description|Arrest|Domestic|Beat|District|Ward|Community Area|FBI Code|X Coordinate|Y Coordinate|Year|          Updated On|    Latitude|    Longitude|            Location|\n",
            "+--------+-----------+-------------------+--------------------+----+--------------------+--------------------+--------------------+------+--------+----+--------+----+--------------+--------+------------+------------+----+--------------------+------------+-------------+--------------------+\n",
            "|11249289|   JB176638|2016-12-23 12:00:00| 0000X N CENTRAL AVE|5093|        NON-CRIMINAL|       LOST PASSPORT|           RESIDENCE| false|   false|1513|     015|  29|            25|      26|        null|        null|2016|03/08/2018 03:55:...|        null|         null|                null|\n",
            "|10813751|   JA113073|2003-03-17 20:00:00| 029XX N MELVINA AVE|5093|        NON-CRIMINAL|       LOST PASSPORT|           RESIDENCE| false|   false|2511|     025|  29|            19|      26|        null|        null|2003|01/14/2017 03:49:...|        null|         null|                null|\n",
            "|10625887|   HZ378355|2016-08-02 09:00:00|  054XX N ELSTON AVE|5093|        NON-CRIMINAL|       LOST PASSPORT|GOVERNMENT BUILDI...| false|   false|1621|     016|  45|            11|      26|     1140460|     1935678|2016|02/10/2018 03:50:...| 41.97959452|-87.758820763|(41.97959452, -87...|\n",
            "|10686750|   HZ440626|2016-09-17 10:00:00|005XX N MILWAUKEE...|5093|        NON-CRIMINAL|       LOST PASSPORT|           CTA TRAIN| false|   false|1214|     012|  27|            24|      26|     1170867|     1903766|2016|02/10/2018 03:50:...|41.891412551|-87.647934597|(41.891412551, -8...|\n",
            "|11397021|   JB371684|2017-10-30 09:00:00|015XX W HOLLYWOOD...|5093|        NON-CRIMINAL|       LOST PASSPORT|           APARTMENT| false|   false|2012|     020|  40|            77|      26|        null|        null|2017|07/31/2018 03:50:...|        null|         null|                null|\n",
            "|11420921|   HY535672|2015-12-13 14:34:00|    100XX W OHARE ST|5093|        NON-CRIMINAL|       LOST PASSPORT|AIRPORT TERMINAL ...| false|   false|1651|     016|  41|            76|      26|        null|        null|2015|08/21/2018 04:05:...|        null|         null|                null|\n",
            "|10579978|   HZ328710|2015-12-25 09:00:00|036XX W FULLERTON...|5093|        NON-CRIMINAL|       LOST PASSPORT|            SIDEWALK| false|   false|2525|     025|  35|            22|      26|        null|        null|2015|06/30/2016 03:51:...|        null|         null|                null|\n",
            "|10422305|   HZ160770|2009-02-22 08:00:00|     024XX W 24TH PL|5093|        NON-CRIMINAL|       LOST PASSPORT|               OTHER| false|   false|1034|     010|  25|            31|      26|        null|        null|2009|02/22/2016 04:09:...|        null|         null|                null|\n",
            "|10828494|   JA129454|2014-10-17 13:05:00|053XX N CUMBERLAN...|5093|        NON-CRIMINAL|       LOST PASSPORT|           APARTMENT| false|   false|1614|     016|  41|            76|      26|        null|        null|2014|01/26/2017 03:48:...|        null|         null|                null|\n",
            "|10316326|   HY505345|2015-11-17 19:30:00|051XX S WENTWORTH...|5114|        NON-CRIMINAL|   FOID - REVOCATION|POLICE FACILITY/V...|  true|    true|0225|     002|   3|            37|      26|        null|        null|2015|02/09/2018 03:44:...|        null|         null|                null|\n",
            "|10385966|   HZ122461|2015-11-20 15:00:00| 010XX S MONITOR AVE|5093|        NON-CRIMINAL|       LOST PASSPORT|           RESIDENCE| false|   false|1513|     015|  29|            25|      26|        null|        null|2015|02/09/2018 03:44:...|        null|         null|                null|\n",
            "|10062441|   HY250685|2015-05-07 13:20:00| 012XX S HARDING AVE|5114|      NON - CRIMINAL|   FOID - REVOCATION|           RESIDENCE| false|   false|1011|     010|  24|            29|      26|     1150243|     1894129|2015|02/10/2018 03:50:...|41.865394646|-87.723928428|(41.865394646, -8...|\n",
            "|10064717|   HY253344|2015-05-08 13:15:00|051XX S WENTWORTH...|5114|      NON - CRIMINAL|   FOID - REVOCATION|POLICE FACILITY/V...| false|   false|0225|     002|   3|            37|      26|     1175826|     1871120|2015|02/10/2018 03:50:...| 41.80171934|-87.630703621|(41.80171934, -87...|\n",
            "|10072565|   HY261001|2015-05-14 10:30:00|    006XX N WELLS ST|5114|      NON - CRIMINAL|   FOID - REVOCATION|              STREET| false|   false|1832|     018|  42|             8|      26|     1174623|     1904537|2015|02/10/2018 03:50:...| 41.89344506|-87.634117632|(41.89344506, -87...|\n",
            "|10109156|   HY297801|2015-06-12 09:00:00|    053XX S NEVA AVE|5114|      NON - CRIMINAL|   FOID - REVOCATION|           RESIDENCE| false|   false|0811|     008|  23|            56|      26|     1129584|     1868411|2015|02/10/2018 03:50:...|41.795197456|-87.800355525|(41.795197456, -8...|\n",
            "|10115077|   HY304017|2015-06-16 19:00:00|  081XX S WHIPPLE ST|5114|      NON - CRIMINAL|   FOID - REVOCATION|           RESIDENCE| false|   false|0835|     008|  18|            70|      26|     1157460|     1850515|2015|02/10/2018 03:50:...|41.745568408|-87.698616805|(41.745568408, -8...|\n",
            "|10124614|   HY313353|2015-06-23 17:05:00|085XX W WINNEMAC AVE|5114|      NON - CRIMINAL|   FOID - REVOCATION|           RESIDENCE|  true|   false|1614|     016|  41|            76|      26|     1118538|     1932386|2015|02/10/2018 03:50:...|41.970936043|-87.839512637|(41.970936043, -8...|\n",
            "|10125981|   HY314305|2015-06-24 15:30:00|021XX N CALIFORNI...|5114|      NON - CRIMINAL|   FOID - REVOCATION|POLICE FACILITY/V...| false|   false|1414|     014|  35|            22|      26|     1157345|     1914452|2015|02/10/2018 03:50:...|41.921021491| -87.69730355|(41.921021491, -8...|\n",
            "|10127418|   HY315600|2015-06-25 15:30:00|     022XX W 51ST ST|5114|      NON - CRIMINAL|   FOID - REVOCATION|           RESIDENCE| false|   false|0931|     009|  16|            63|      26|     1162194|     1870807|2015|02/10/2018 03:50:...|41.801155339| -87.68070621|(41.801155339, -8...|\n",
            "|10127785|   HY316123|2015-06-25 22:45:00|051XX N MILWAUKEE...|5114|      NON - CRIMINAL|   FOID - REVOCATION|POLICE FACILITY/V...|  true|   false|1623|     016|  45|            11|      26|     1138424|     1933673|2015|02/10/2018 03:50:...|41.974129858|-87.766357256|(41.974129858, -8...|\n",
            "|10128364|   HY316525|2015-06-26 10:45:00|035XX S MICHIGAN AVE|5114|      NON - CRIMINAL|   FOID - REVOCATION|POLICE FACILITY/V...| false|   false|0213|     002|   3|            35|      26|     1177772|     1881665|2015|02/10/2018 03:50:...|41.830611847|-87.623247369|(41.830611847, -8...|\n",
            "|10132522|   HY321435|2015-06-29 22:23:00|     044XX W 76TH ST|1481|        NON-CRIMINAL|CONCEALED CARRY L...|              STREET|  true|   false|0833|     008|  13|            65|      15|     1148140|     1853871|2015|08/17/2015 03:03:...|41.754961443|-87.732681619|(41.754961443, -8...|\n",
            "|10157940|   HY347539|2015-07-08 10:30:00| 016XX W CHICAGO AVE|5093|        NON-CRIMINAL|       LOST PASSPORT|              STREET| false|   false|1215|     012|   1|            24|      26|     1165158|     1905410|2015|02/10/2018 03:50:...|41.896047034|-87.668854221|(41.896047034, -8...|\n",
            "|10181019|   HY369010|2015-08-01 10:15:00|  079XX S KEDZIE AVE|5114|      NON - CRIMINAL|   FOID - REVOCATION|           RESIDENCE| false|   false|0835|     008|  18|            70|      26|     1156427|     1851731|2015|02/10/2018 03:50:...|41.748926157| -87.70236927|(41.748926157, -8...|\n",
            "|10202049|   HY389275|2015-08-19 18:38:00|025XX W MARQUETTE RD|5114|      NON - CRIMINAL|   FOID - REVOCATION|           APARTMENT| false|   false|0832|     008|  15|            66|      26|     1160388|     1860136|2015|02/10/2018 03:50:...|41.771910102|-87.687623385|(41.771910102, -8...|\n",
            "|10212100|   HY398571|2015-08-26 17:45:00|    017XX S STATE ST|0585|        NON-CRIMINAL|NOTIFICATION OF S...|POLICE FACILITY/V...|  true|   false|0131|     001|   3|            33|      26|     1176607|     1891853|2015|02/10/2018 03:50:...|41.858594819|-87.627214427|(41.858594819, -8...|\n",
            "|10213039|   HY398172|2015-08-26 11:45:00| 0000X W TERMINAL ST|5093|        NON-CRIMINAL|       LOST PASSPORT|AIRPORT TERMINAL ...| false|   false|1653|     016|  41|            76|      26|     1101811|     1934419|2015|02/10/2018 03:50:...|41.976762981|-87.900983721|(41.976762981, -8...|\n",
            "|10221247|   HY406742|2015-09-01 22:00:00| 031XX W HARRISON ST|5114|      NON - CRIMINAL|   FOID - REVOCATION|POLICE FACILITY/V...| false|   false|1134|     011|  24|            27|      26|     1155457|     1897193|2015|02/10/2018 03:50:...|41.873699424|-87.704705156|(41.873699424, -8...|\n",
            "|10233370|   HY421530|2015-09-13 10:45:00|  010XX S MENARD AVE|5114|      NON - CRIMINAL|   FOID - REVOCATION|           RESIDENCE|  true|   false|1513|     015|  29|            25|      26|     1137869|     1895239|2015|02/10/2018 03:50:...|41.868672696|-87.769327726|(41.868672696, -8...|\n",
            "|10241515|   HY429346|2015-09-19 07:45:00|051XX N MILWAUKEE...|5114|      NON - CRIMINAL|   FOID - REVOCATION|POLICE FACILITY/V...|  true|   false|1623|     016|  45|            11|      26|     1138424|     1933673|2015|02/10/2018 03:50:...|41.974129858|-87.766357256|(41.974129858, -8...|\n",
            "|10277370|   HY465290|2015-10-16 20:00:00|    100XX W OHARE ST|5093|        NON-CRIMINAL|       LOST PASSPORT|            AIRCRAFT| false|   false|1651|     016|  41|            76|      26|     1100658|     1934241|2015|02/10/2018 03:50:...|41.976290414|-87.905227221|(41.976290414, -8...|\n",
            "|10280097|   HY468448|2015-10-19 18:50:00|   033XX W OGDEN AVE|5114|      NON - CRIMINAL|   FOID - REVOCATION|POLICE FACILITY/V...| false|   false|1024|     010|  24|            29|      26|     1154489|     1891024|2015|02/10/2018 03:50:...|41.856790413|-87.708424071|(41.856790413, -8...|\n",
            "|10290745|   HY478502|2015-10-26 16:00:00|004XX W DIVERSEY ...|5093|        NON-CRIMINAL|       LOST PASSPORT|            SIDEWALK| false|   false|1934|     019|  44|             6|      26|     1172533|     1918887|2015|02/10/2018 03:50:...|41.932868651|-87.641368196|(41.932868651, -8...|\n",
            "|10296800|   HY485235|2015-09-30 17:00:00|008XX N MAPLEWOOD...|5093|        NON-CRIMINAL|       LOST PASSPORT|            SIDEWALK| false|   false|1211|     012|   1|            24|      26|     1159246|     1905582|2015|02/10/2018 03:50:...|41.896642608|-87.690563055|(41.896642608, -8...|\n",
            "|10300617|   HY489191|2015-11-03 15:00:00|  031XX S HALSTED ST|5114|      NON - CRIMINAL|   FOID - REVOCATION|           RESIDENCE| false|   false|0913|     009|  11|            60|      26|     1171479|     1884120|2015|02/10/2018 03:50:...|41.837489008|-87.646264459|(41.837489008, -8...|\n",
            "|10325994|   HY516457|2015-11-26 23:30:00|  001XX W HUBBARD ST|5093|        NON-CRIMINAL|       LOST PASSPORT|          RESTAURANT| false|   false|1831|     018|  42|             8|      26|     1175301|     1903292|2015|02/10/2018 03:50:...|41.890013524|-87.631664996|(41.890013524, -8...|\n",
            "|10336794|   HY527983|2015-10-26 14:00:00|    006XX N STATE ST|5093|        NON-CRIMINAL|       LOST PASSPORT|               OTHER| false|   false|1832|     018|  42|             8|      26|     1176262|     1904268|2015|02/10/2018 03:50:...|  41.8926701|-87.628106353|(41.8926701, -87....|\n",
            "|10344075|   HY535016|2015-12-12 20:50:00|     025XX W 80TH PL|5114|      NON - CRIMINAL|   FOID - REVOCATION|VEHICLE NON-COMME...| false|   false|0835|     008|  18|            70|      26|     1160683|     1851174|2015|02/10/2018 03:50:...|41.747310961| -87.68678891|(41.747310961, -8...|\n",
            "|10351482|   HY541941|2015-12-13 08:30:00|    100XX W OHARE ST|5093|        NON-CRIMINAL|       LOST PASSPORT|AIRPORT TERMINAL ...| false|   false|1651|     016|  41|            76|      26|     1100658|     1934241|2015|02/10/2018 03:50:...|41.976290414|-87.905227221|(41.976290414, -8...|\n",
            "|10371674|   HZ107512|2016-01-07 17:36:00|051XX S WENTWORTH...|5073|NON-CRIMINAL (SUB...|NOTIFICATION OF C...|JAIL / LOCK-UP FA...| false|    true|0225|     002|   3|            37|      26|     1175826|     1871120|2016|02/10/2018 03:50:...| 41.80171934|-87.630703621|(41.80171934, -87...|\n",
            "|10396040|   HZ131825|2016-01-04 18:00:00|  008XX W ADDISON ST|5114|        NON-CRIMINAL|   FOID - REVOCATION|HOSPITAL BUILDING...| false|   false|1923|     019|  44|             6|      26|     1169826|     1924123|2016|02/10/2018 03:50:...|41.947295978|-87.651162974|(41.947295978, -8...|\n",
            "|10397129|   HZ133234|2016-01-29 15:30:00| 006XX W HARRISON ST|5114|      NON - CRIMINAL|   FOID - REVOCATION|              STREET| false|   false|0124|     001|   2|            28|      26|     1172257|     1897564|2016|02/10/2018 03:50:...|41.874363279|-87.643013039|(41.874363279, -8...|\n",
            "|10401279|   HZ137710|2016-02-02 07:00:00| 068XX S CRANDON AVE|5114|      NON - CRIMINAL|   FOID - REVOCATION|           APARTMENT| false|   false|0331|     003|   5|            43|      26|     1192506|     1859959|2016|02/10/2018 03:50:...|41.770702367|-87.569896036|(41.770702367, -8...|\n",
            "|10405784|   HZ142394|2016-02-06 11:20:00|031XX W FRANKLIN ...|5114|      NON - CRIMINAL|   FOID - REVOCATION|              STREET|  true|   false|1221|     012|  27|            23|      26|     1155334|     1903164|2016|02/10/2018 03:50:...|41.890086914|-87.704996246|(41.890086914, -8...|\n",
            "|10407502|   HZ143549|2016-02-07 11:00:00|    100XX W OHARE ST|5093|        NON-CRIMINAL|       LOST PASSPORT|            AIRCRAFT| false|   false|1651|     016|  41|            76|      26|     1100658|     1934241|2016|02/10/2018 03:50:...|41.976290414|-87.905227221|(41.976290414, -8...|\n",
            "|10410240|   HZ146595|2016-02-10 09:07:00|045XX W CONGRESS ...|5114|      NON - CRIMINAL|   FOID - REVOCATION|           RESIDENCE| false|   false|1131|     011|  24|            26|      26|     1146319|     1897308|2016|02/10/2018 03:50:...|41.874193745|-87.738252825|(41.874193745, -8...|\n",
            "|10412587|   HZ149851|2016-02-13 00:11:00|  031XX S HALSTED ST|5114|      NON - CRIMINAL|   FOID - REVOCATION|POLICE FACILITY/V...|  true|   false|0913|     009|  11|            60|      26|     1171479|     1884120|2016|02/10/2018 03:50:...|41.837489008|-87.646264459|(41.837489008, -8...|\n",
            "|10417135|   HZ155024|2016-02-17 16:02:00|   028XX W CERMAK RD|5114|        NON-CRIMINAL|   FOID - REVOCATION|              STREET|  true|   false|1033|     010|  12|            30|      26|     1157790|     1889263|2016|02/10/2018 03:50:...|41.851891472|-87.696355505|(41.851891472, -8...|\n",
            "|10422489|   HZ160886|2016-02-12 12:00:00|  029XX S NORMAL AVE|5093|        NON-CRIMINAL|       LOST PASSPORT|               OTHER| false|   false|0914|     009|  11|            60|      26|     1173433|     1885534|2016|02/10/2018 03:50:...|41.841326028|-87.639052486|(41.841326028, -8...|\n",
            "|10433951|   HZ171487|2016-03-02 08:30:00|035XX S MICHIGAN AVE|5114|        NON-CRIMINAL|   FOID - REVOCATION|GOVERNMENT BUILDI...| false|   false|0213|     002|   3|            35|      26|     1177772|     1881665|2016|02/10/2018 03:50:...|41.830611847|-87.623247369|(41.830611847, -8...|\n",
            "+--------+-----------+-------------------+--------------------+----+--------------------+--------------------+--------------------+------+--------+----+--------+----+--------------+--------+------------+------------+----+--------------------+------------+-------------+--------------------+\n",
            "only showing top 50 rows\n",
            "\n"
          ]
        }
      ]
    },
    {
      "cell_type": "code",
      "source": [
        "nc.groupBy(col('Description')).count().orderBy('count',ascending=False).show(truncate=False)"
      ],
      "metadata": {
        "colab": {
          "base_uri": "https://localhost:8080/"
        },
        "id": "f5rVpi-G7KZp",
        "outputId": "cda814fa-1964-4ae2-9ce9-5d29b43f1438"
      },
      "execution_count": 61,
      "outputs": [
        {
          "output_type": "stream",
          "name": "stdout",
          "text": [
            "+-------------------------------------------+-----+\n",
            "|Description                                |count|\n",
            "+-------------------------------------------+-----+\n",
            "|LOST PASSPORT                              |107  |\n",
            "|FOID - REVOCATION                          |75   |\n",
            "|NOTIFICATION OF CIVIL NO CONTACT ORDER     |9    |\n",
            "|NOTIFICATION OF STALKING - NO CONTACT ORDER|8    |\n",
            "|CONCEALED CARRY LICENSE REVOCATION         |4    |\n",
            "|FOUND PASSPORT                             |4    |\n",
            "|GUN OFFENDER NOTIFICATION-NO CONTACT       |3    |\n",
            "+-------------------------------------------+-----+\n",
            "\n"
          ]
        }
      ]
    },
    {
      "cell_type": "markdown",
      "source": [
        "## Find the day of the week with the most reported crime"
      ],
      "metadata": {
        "id": "4hpNsdQ81Ro4"
      }
    },
    {
      "cell_type": "code",
      "source": [
        "from pyspark.sql.functions import dayofweek"
      ],
      "metadata": {
        "id": "VktbrLc78OgS"
      },
      "execution_count": 62,
      "outputs": []
    },
    {
      "cell_type": "code",
      "source": [
        "help(dayofweek)"
      ],
      "metadata": {
        "id": "tWmhsofxVXfo",
        "outputId": "54443693-7601-446a-bc6f-32367619abfe",
        "colab": {
          "base_uri": "https://localhost:8080/"
        }
      },
      "execution_count": 63,
      "outputs": [
        {
          "output_type": "stream",
          "name": "stdout",
          "text": [
            "Help on function dayofweek in module pyspark.sql.functions:\n",
            "\n",
            "dayofweek(col: 'ColumnOrName') -> pyspark.sql.column.Column\n",
            "    Extract the day of the week of a given date/timestamp as integer.\n",
            "    Ranges from 1 for a Sunday through to 7 for a Saturday\n",
            "    \n",
            "    .. versionadded:: 2.3.0\n",
            "    \n",
            "    .. versionchanged:: 3.4.0\n",
            "        Supports Spark Connect.\n",
            "    \n",
            "    Parameters\n",
            "    ----------\n",
            "    col : :class:`~pyspark.sql.Column` or str\n",
            "        target date/timestamp column to work on.\n",
            "    \n",
            "    Returns\n",
            "    -------\n",
            "    :class:`~pyspark.sql.Column`\n",
            "        day of the week for given date/timestamp as integer.\n",
            "    \n",
            "    Examples\n",
            "    --------\n",
            "    >>> df = spark.createDataFrame([('2015-04-08',)], ['dt'])\n",
            "    >>> df.select(dayofweek('dt').alias('day')).collect()\n",
            "    [Row(day=4)]\n",
            "\n"
          ]
        }
      ]
    },
    {
      "cell_type": "code",
      "source": [
        "rc.show(5)"
      ],
      "metadata": {
        "id": "fWfvUBXbVZ9Y",
        "outputId": "fea4f06a-0a08-471e-a671-2ce4282be122",
        "colab": {
          "base_uri": "https://localhost:8080/"
        }
      },
      "execution_count": 64,
      "outputs": [
        {
          "output_type": "stream",
          "name": "stdout",
          "text": [
            "+--------+-----------+-------------------+--------------------+----+------------------+--------------------+--------------------+------+--------+----+--------+----+--------------+--------+------------+------------+----+--------------------+--------+---------+--------+\n",
            "|      ID|Case Number|               Date|               Block|IUCR|      Primary Type|         Description|Location Description|Arrest|Domestic|Beat|District|Ward|Community Area|FBI Code|X Coordinate|Y Coordinate|Year|          Updated On|Latitude|Longitude|Location|\n",
            "+--------+-----------+-------------------+--------------------+----+------------------+--------------------+--------------------+------+--------+----+--------+----+--------------+--------+------------+------------+----+--------------------+--------+---------+--------+\n",
            "|11646166|   JC213529|2018-09-01 00:01:00|082XX S INGLESIDE...|0810|             THEFT|           OVER $500|           RESIDENCE| false|    true|0631|     006|   8|            44|      06|        null|        null|2018|04/06/2019 04:04:...|    null|     null|    null|\n",
            "|11645836|   JC212333|2016-05-01 00:25:00| 055XX S ROCKWELL ST|1153|DECEPTIVE PRACTICE|FINANCIAL IDENTIT...|                null| false|   false|0824|     008|  15|            63|      11|        null|        null|2016|04/06/2019 04:04:...|    null|     null|    null|\n",
            "|11449702|   JB373031|2018-07-31 13:30:00|009XX E HYDE PARK...|2024|         NARCOTICS| POSS: HEROIN(WHITE)|              STREET|  true|   false|0233|     002|   5|            41|      18|        null|        null|2018|04/09/2019 04:24:...|    null|     null|    null|\n",
            "|11645527|   JC212744|2015-02-02 10:00:00|  069XX W ARCHER AVE|1153|DECEPTIVE PRACTICE|FINANCIAL IDENTIT...|               OTHER| false|   false|0811|     008|  23|            56|      11|        null|        null|2015|04/06/2019 04:04:...|    null|     null|    null|\n",
            "|11034701|   JA366925|2001-01-01 11:00:00|     016XX E 86TH PL|1153|DECEPTIVE PRACTICE|FINANCIAL IDENTIT...|           RESIDENCE| false|   false|0412|     004|   8|            45|      11|        null|        null|2001|08/05/2017 03:50:...|    null|     null|    null|\n",
            "+--------+-----------+-------------------+--------------------+----+------------------+--------------------+--------------------+------+--------+----+--------+----+--------------+--------+------------+------------+----+--------------------+--------+---------+--------+\n",
            "only showing top 5 rows\n",
            "\n"
          ]
        }
      ]
    },
    {
      "cell_type": "code",
      "source": [
        "rc.select(col('Date'),dayofweek(col('Date'))).show(5)"
      ],
      "metadata": {
        "id": "aEIhI-uvVe1i",
        "outputId": "afd70a1e-bb88-4858-9ab1-861c5240830f",
        "colab": {
          "base_uri": "https://localhost:8080/"
        }
      },
      "execution_count": 66,
      "outputs": [
        {
          "output_type": "stream",
          "name": "stdout",
          "text": [
            "+-------------------+---------------+\n",
            "|               Date|dayofweek(Date)|\n",
            "+-------------------+---------------+\n",
            "|2018-09-01 00:01:00|              7|\n",
            "|2016-05-01 00:25:00|              1|\n",
            "|2018-07-31 13:30:00|              3|\n",
            "|2015-02-02 10:00:00|              2|\n",
            "|2001-01-01 11:00:00|              2|\n",
            "+-------------------+---------------+\n",
            "only showing top 5 rows\n",
            "\n"
          ]
        }
      ]
    },
    {
      "cell_type": "code",
      "source": [
        "from pyspark.sql.functions import date_format"
      ],
      "metadata": {
        "id": "V7QPrDMgVwZq"
      },
      "execution_count": 68,
      "outputs": []
    },
    {
      "cell_type": "code",
      "source": [
        "help(date_format)"
      ],
      "metadata": {
        "id": "OATzBCWcV8BY",
        "outputId": "0a724eeb-0098-4f03-af06-503d8dbbfb2d",
        "colab": {
          "base_uri": "https://localhost:8080/"
        }
      },
      "execution_count": 69,
      "outputs": [
        {
          "output_type": "stream",
          "name": "stdout",
          "text": [
            "Help on function date_format in module pyspark.sql.functions:\n",
            "\n",
            "date_format(date: 'ColumnOrName', format: str) -> pyspark.sql.column.Column\n",
            "    Converts a date/timestamp/string to a value of string in the format specified by the date\n",
            "    format given by the second argument.\n",
            "    \n",
            "    A pattern could be for instance `dd.MM.yyyy` and could return a string like '18.03.1993'. All\n",
            "    pattern letters of `datetime pattern`_. can be used.\n",
            "    \n",
            "    .. _datetime pattern: https://spark.apache.org/docs/latest/sql-ref-datetime-pattern.html\n",
            "    \n",
            "    .. versionadded:: 1.5.0\n",
            "    \n",
            "    .. versionchanged:: 3.4.0\n",
            "        Supports Spark Connect.\n",
            "    \n",
            "    Notes\n",
            "    -----\n",
            "    Whenever possible, use specialized functions like `year`.\n",
            "    \n",
            "    Parameters\n",
            "    ----------\n",
            "    date : :class:`~pyspark.sql.Column` or str\n",
            "        input column of values to format.\n",
            "    format: str\n",
            "        format to use to represent datetime values.\n",
            "    \n",
            "    Returns\n",
            "    -------\n",
            "    :class:`~pyspark.sql.Column`\n",
            "        string value representing formatted datetime.\n",
            "    \n",
            "    Examples\n",
            "    --------\n",
            "    >>> df = spark.createDataFrame([('2015-04-08',)], ['dt'])\n",
            "    >>> df.select(date_format('dt', 'MM/dd/yyy').alias('date')).collect()\n",
            "    [Row(date='04/08/2015')]\n",
            "\n"
          ]
        }
      ]
    },
    {
      "cell_type": "code",
      "source": [
        "rc.select(col('Date'),dayofweek(col('Date')), date_format(col('Date'),'E')).show(5)"
      ],
      "metadata": {
        "id": "F6TTn4qNWLy-",
        "outputId": "85351a86-abe0-4369-bc8e-eff06cb8d60d",
        "colab": {
          "base_uri": "https://localhost:8080/"
        }
      },
      "execution_count": 70,
      "outputs": [
        {
          "output_type": "stream",
          "name": "stdout",
          "text": [
            "+-------------------+---------------+--------------------+\n",
            "|               Date|dayofweek(Date)|date_format(Date, E)|\n",
            "+-------------------+---------------+--------------------+\n",
            "|2018-09-01 00:01:00|              7|                 Sat|\n",
            "|2016-05-01 00:25:00|              1|                 Sun|\n",
            "|2018-07-31 13:30:00|              3|                 Tue|\n",
            "|2015-02-02 10:00:00|              2|                 Mon|\n",
            "|2001-01-01 11:00:00|              2|                 Mon|\n",
            "+-------------------+---------------+--------------------+\n",
            "only showing top 5 rows\n",
            "\n"
          ]
        }
      ]
    },
    {
      "cell_type": "code",
      "source": [
        "rc.groupBy(date_format(col('Date'),'E')).count().orderBy('count',ascending = False).show()"
      ],
      "metadata": {
        "id": "iXgL_nIDW-k1",
        "outputId": "6aecea16-1978-469a-b67e-4aa7d86e6af5",
        "colab": {
          "base_uri": "https://localhost:8080/"
        }
      },
      "execution_count": 73,
      "outputs": [
        {
          "output_type": "stream",
          "name": "stdout",
          "text": [
            "+--------------------+-------+\n",
            "|date_format(Date, E)|  count|\n",
            "+--------------------+-------+\n",
            "|                 Fri|1017401|\n",
            "|                 Wed| 974298|\n",
            "|                 Tue| 968460|\n",
            "|                 Sat| 965526|\n",
            "|                 Thu| 965046|\n",
            "|                 Mon| 953180|\n",
            "|                 Sun| 912383|\n",
            "+--------------------+-------+\n",
            "\n"
          ]
        }
      ]
    },
    {
      "cell_type": "code",
      "source": [
        "rc.groupBy(date_format(col('Date'),'E')).count().collect()"
      ],
      "metadata": {
        "id": "w_EF9W1bXulZ",
        "outputId": "fa888a71-b3e6-4bf8-f00f-207068352883",
        "colab": {
          "base_uri": "https://localhost:8080/"
        }
      },
      "execution_count": 74,
      "outputs": [
        {
          "output_type": "execute_result",
          "data": {
            "text/plain": [
              "[Row(date_format(Date, E)='Sun', count=912383),\n",
              " Row(date_format(Date, E)='Mon', count=953180),\n",
              " Row(date_format(Date, E)='Thu', count=965046),\n",
              " Row(date_format(Date, E)='Sat', count=965526),\n",
              " Row(date_format(Date, E)='Wed', count=974298),\n",
              " Row(date_format(Date, E)='Tue', count=968460),\n",
              " Row(date_format(Date, E)='Fri', count=1017401)]"
            ]
          },
          "metadata": {},
          "execution_count": 74
        }
      ]
    },
    {
      "cell_type": "markdown",
      "source": [
        "X : Day of Week\n",
        "\n",
        "Y : Count of the reported crime"
      ],
      "metadata": {
        "id": "uk3_sv81YRNB"
      }
    },
    {
      "cell_type": "code",
      "source": [
        "dow = [x[0] for x in rc.groupBy(date_format(col('Date'),'E')).count().collect()]\n",
        "dow"
      ],
      "metadata": {
        "id": "8gfIJGGMX5_Q",
        "outputId": "b22cb2f4-4f64-49f9-a850-7bc91ff867ea",
        "colab": {
          "base_uri": "https://localhost:8080/"
        }
      },
      "execution_count": 76,
      "outputs": [
        {
          "output_type": "execute_result",
          "data": {
            "text/plain": [
              "['Sun', 'Mon', 'Thu', 'Sat', 'Wed', 'Tue', 'Fri']"
            ]
          },
          "metadata": {},
          "execution_count": 76
        }
      ]
    },
    {
      "cell_type": "code",
      "source": [
        "cnt = [x[1] for x in rc.groupBy(date_format(col('Date'),'E')).count().collect()]\n",
        "cnt"
      ],
      "metadata": {
        "id": "EshTqvuSYMSy",
        "outputId": "a8ae7ba6-99a9-413d-dfa9-7e2796c9c776",
        "colab": {
          "base_uri": "https://localhost:8080/"
        }
      },
      "execution_count": 77,
      "outputs": [
        {
          "output_type": "execute_result",
          "data": {
            "text/plain": [
              "[912383, 953180, 965046, 965526, 974298, 968460, 1017401]"
            ]
          },
          "metadata": {},
          "execution_count": 77
        }
      ]
    },
    {
      "cell_type": "code",
      "source": [
        "import pandas as pd\n",
        "import matplotlib.pyplot as plt"
      ],
      "metadata": {
        "id": "tmXxryAhYkDz"
      },
      "execution_count": 78,
      "outputs": []
    },
    {
      "cell_type": "code",
      "source": [
        "cp = pd.DataFrame({'Day_of_week':dow, 'Count':cnt})\n",
        "cp.head(7)"
      ],
      "metadata": {
        "id": "2OgWdEgMYj6k",
        "outputId": "a747bd86-aebc-4a8f-83fd-44b05843b5f0",
        "colab": {
          "base_uri": "https://localhost:8080/",
          "height": 269
        }
      },
      "execution_count": 81,
      "outputs": [
        {
          "output_type": "execute_result",
          "data": {
            "text/plain": [
              "  Day_of_week    Count\n",
              "0         Sun   912383\n",
              "1         Mon   953180\n",
              "2         Thu   965046\n",
              "3         Sat   965526\n",
              "4         Wed   974298\n",
              "5         Tue   968460\n",
              "6         Fri  1017401"
            ],
            "text/html": [
              "\n",
              "\n",
              "  <div id=\"df-9155b33a-624b-487d-b5c7-3750b96d84cc\">\n",
              "    <div class=\"colab-df-container\">\n",
              "      <div>\n",
              "<style scoped>\n",
              "    .dataframe tbody tr th:only-of-type {\n",
              "        vertical-align: middle;\n",
              "    }\n",
              "\n",
              "    .dataframe tbody tr th {\n",
              "        vertical-align: top;\n",
              "    }\n",
              "\n",
              "    .dataframe thead th {\n",
              "        text-align: right;\n",
              "    }\n",
              "</style>\n",
              "<table border=\"1\" class=\"dataframe\">\n",
              "  <thead>\n",
              "    <tr style=\"text-align: right;\">\n",
              "      <th></th>\n",
              "      <th>Day_of_week</th>\n",
              "      <th>Count</th>\n",
              "    </tr>\n",
              "  </thead>\n",
              "  <tbody>\n",
              "    <tr>\n",
              "      <th>0</th>\n",
              "      <td>Sun</td>\n",
              "      <td>912383</td>\n",
              "    </tr>\n",
              "    <tr>\n",
              "      <th>1</th>\n",
              "      <td>Mon</td>\n",
              "      <td>953180</td>\n",
              "    </tr>\n",
              "    <tr>\n",
              "      <th>2</th>\n",
              "      <td>Thu</td>\n",
              "      <td>965046</td>\n",
              "    </tr>\n",
              "    <tr>\n",
              "      <th>3</th>\n",
              "      <td>Sat</td>\n",
              "      <td>965526</td>\n",
              "    </tr>\n",
              "    <tr>\n",
              "      <th>4</th>\n",
              "      <td>Wed</td>\n",
              "      <td>974298</td>\n",
              "    </tr>\n",
              "    <tr>\n",
              "      <th>5</th>\n",
              "      <td>Tue</td>\n",
              "      <td>968460</td>\n",
              "    </tr>\n",
              "    <tr>\n",
              "      <th>6</th>\n",
              "      <td>Fri</td>\n",
              "      <td>1017401</td>\n",
              "    </tr>\n",
              "  </tbody>\n",
              "</table>\n",
              "</div>\n",
              "      <button class=\"colab-df-convert\" onclick=\"convertToInteractive('df-9155b33a-624b-487d-b5c7-3750b96d84cc')\"\n",
              "              title=\"Convert this dataframe to an interactive table.\"\n",
              "              style=\"display:none;\">\n",
              "\n",
              "  <svg xmlns=\"http://www.w3.org/2000/svg\" height=\"24px\"viewBox=\"0 0 24 24\"\n",
              "       width=\"24px\">\n",
              "    <path d=\"M0 0h24v24H0V0z\" fill=\"none\"/>\n",
              "    <path d=\"M18.56 5.44l.94 2.06.94-2.06 2.06-.94-2.06-.94-.94-2.06-.94 2.06-2.06.94zm-11 1L8.5 8.5l.94-2.06 2.06-.94-2.06-.94L8.5 2.5l-.94 2.06-2.06.94zm10 10l.94 2.06.94-2.06 2.06-.94-2.06-.94-.94-2.06-.94 2.06-2.06.94z\"/><path d=\"M17.41 7.96l-1.37-1.37c-.4-.4-.92-.59-1.43-.59-.52 0-1.04.2-1.43.59L10.3 9.45l-7.72 7.72c-.78.78-.78 2.05 0 2.83L4 21.41c.39.39.9.59 1.41.59.51 0 1.02-.2 1.41-.59l7.78-7.78 2.81-2.81c.8-.78.8-2.07 0-2.86zM5.41 20L4 18.59l7.72-7.72 1.47 1.35L5.41 20z\"/>\n",
              "  </svg>\n",
              "      </button>\n",
              "\n",
              "\n",
              "\n",
              "    <div id=\"df-e516353a-47ff-454a-85e8-f1547454a651\">\n",
              "      <button class=\"colab-df-quickchart\" onclick=\"quickchart('df-e516353a-47ff-454a-85e8-f1547454a651')\"\n",
              "              title=\"Suggest charts.\"\n",
              "              style=\"display:none;\">\n",
              "\n",
              "<svg xmlns=\"http://www.w3.org/2000/svg\" height=\"24px\"viewBox=\"0 0 24 24\"\n",
              "     width=\"24px\">\n",
              "    <g>\n",
              "        <path d=\"M19 3H5c-1.1 0-2 .9-2 2v14c0 1.1.9 2 2 2h14c1.1 0 2-.9 2-2V5c0-1.1-.9-2-2-2zM9 17H7v-7h2v7zm4 0h-2V7h2v10zm4 0h-2v-4h2v4z\"/>\n",
              "    </g>\n",
              "</svg>\n",
              "      </button>\n",
              "    </div>\n",
              "\n",
              "<style>\n",
              "  .colab-df-quickchart {\n",
              "    background-color: #E8F0FE;\n",
              "    border: none;\n",
              "    border-radius: 50%;\n",
              "    cursor: pointer;\n",
              "    display: none;\n",
              "    fill: #1967D2;\n",
              "    height: 32px;\n",
              "    padding: 0 0 0 0;\n",
              "    width: 32px;\n",
              "  }\n",
              "\n",
              "  .colab-df-quickchart:hover {\n",
              "    background-color: #E2EBFA;\n",
              "    box-shadow: 0px 1px 2px rgba(60, 64, 67, 0.3), 0px 1px 3px 1px rgba(60, 64, 67, 0.15);\n",
              "    fill: #174EA6;\n",
              "  }\n",
              "\n",
              "  [theme=dark] .colab-df-quickchart {\n",
              "    background-color: #3B4455;\n",
              "    fill: #D2E3FC;\n",
              "  }\n",
              "\n",
              "  [theme=dark] .colab-df-quickchart:hover {\n",
              "    background-color: #434B5C;\n",
              "    box-shadow: 0px 1px 3px 1px rgba(0, 0, 0, 0.15);\n",
              "    filter: drop-shadow(0px 1px 2px rgba(0, 0, 0, 0.3));\n",
              "    fill: #FFFFFF;\n",
              "  }\n",
              "</style>\n",
              "\n",
              "    <script>\n",
              "      async function quickchart(key) {\n",
              "        const containerElement = document.querySelector('#' + key);\n",
              "        const charts = await google.colab.kernel.invokeFunction(\n",
              "            'suggestCharts', [key], {});\n",
              "      }\n",
              "    </script>\n",
              "\n",
              "      <script>\n",
              "\n",
              "function displayQuickchartButton(domScope) {\n",
              "  let quickchartButtonEl =\n",
              "    domScope.querySelector('#df-e516353a-47ff-454a-85e8-f1547454a651 button.colab-df-quickchart');\n",
              "  quickchartButtonEl.style.display =\n",
              "    google.colab.kernel.accessAllowed ? 'block' : 'none';\n",
              "}\n",
              "\n",
              "        displayQuickchartButton(document);\n",
              "      </script>\n",
              "      <style>\n",
              "    .colab-df-container {\n",
              "      display:flex;\n",
              "      flex-wrap:wrap;\n",
              "      gap: 12px;\n",
              "    }\n",
              "\n",
              "    .colab-df-convert {\n",
              "      background-color: #E8F0FE;\n",
              "      border: none;\n",
              "      border-radius: 50%;\n",
              "      cursor: pointer;\n",
              "      display: none;\n",
              "      fill: #1967D2;\n",
              "      height: 32px;\n",
              "      padding: 0 0 0 0;\n",
              "      width: 32px;\n",
              "    }\n",
              "\n",
              "    .colab-df-convert:hover {\n",
              "      background-color: #E2EBFA;\n",
              "      box-shadow: 0px 1px 2px rgba(60, 64, 67, 0.3), 0px 1px 3px 1px rgba(60, 64, 67, 0.15);\n",
              "      fill: #174EA6;\n",
              "    }\n",
              "\n",
              "    [theme=dark] .colab-df-convert {\n",
              "      background-color: #3B4455;\n",
              "      fill: #D2E3FC;\n",
              "    }\n",
              "\n",
              "    [theme=dark] .colab-df-convert:hover {\n",
              "      background-color: #434B5C;\n",
              "      box-shadow: 0px 1px 3px 1px rgba(0, 0, 0, 0.15);\n",
              "      filter: drop-shadow(0px 1px 2px rgba(0, 0, 0, 0.3));\n",
              "      fill: #FFFFFF;\n",
              "    }\n",
              "  </style>\n",
              "\n",
              "      <script>\n",
              "        const buttonEl =\n",
              "          document.querySelector('#df-9155b33a-624b-487d-b5c7-3750b96d84cc button.colab-df-convert');\n",
              "        buttonEl.style.display =\n",
              "          google.colab.kernel.accessAllowed ? 'block' : 'none';\n",
              "\n",
              "        async function convertToInteractive(key) {\n",
              "          const element = document.querySelector('#df-9155b33a-624b-487d-b5c7-3750b96d84cc');\n",
              "          const dataTable =\n",
              "            await google.colab.kernel.invokeFunction('convertToInteractive',\n",
              "                                                     [key], {});\n",
              "          if (!dataTable) return;\n",
              "\n",
              "          const docLinkHtml = 'Like what you see? Visit the ' +\n",
              "            '<a target=\"_blank\" href=https://colab.research.google.com/notebooks/data_table.ipynb>data table notebook</a>'\n",
              "            + ' to learn more about interactive tables.';\n",
              "          element.innerHTML = '';\n",
              "          dataTable['output_type'] = 'display_data';\n",
              "          await google.colab.output.renderOutput(dataTable, element);\n",
              "          const docLink = document.createElement('div');\n",
              "          docLink.innerHTML = docLinkHtml;\n",
              "          element.appendChild(docLink);\n",
              "        }\n",
              "      </script>\n",
              "    </div>\n",
              "  </div>\n"
            ]
          },
          "metadata": {},
          "execution_count": 81
        }
      ]
    },
    {
      "cell_type": "code",
      "source": [
        "cp.sort_values('Count', ascending=False).plot(kind='bar', color = 'olive',x = 'Day_of_week', y = 'Count')\n",
        "plt.xlabel('Day of the week')\n",
        "plt.ylabel('No. of reported crimes')\n",
        "plt.title('No. of reported crimes per day of the week from 2001 to present')"
      ],
      "metadata": {
        "id": "LaRMnu81YjsE",
        "outputId": "6ae1852b-3f7f-41f1-e1f0-ebe8bb325982",
        "colab": {
          "base_uri": "https://localhost:8080/",
          "height": 239
        }
      },
      "execution_count": 1,
      "outputs": [
        {
          "output_type": "error",
          "ename": "NameError",
          "evalue": "ignored",
          "traceback": [
            "\u001b[0;31m---------------------------------------------------------------------------\u001b[0m",
            "\u001b[0;31mNameError\u001b[0m                                 Traceback (most recent call last)",
            "\u001b[0;32m<ipython-input-1-ac2b1ecc0ed4>\u001b[0m in \u001b[0;36m<cell line: 1>\u001b[0;34m()\u001b[0m\n\u001b[0;32m----> 1\u001b[0;31m \u001b[0mcp\u001b[0m\u001b[0;34m.\u001b[0m\u001b[0msort_values\u001b[0m\u001b[0;34m(\u001b[0m\u001b[0;34m'Count'\u001b[0m\u001b[0;34m,\u001b[0m \u001b[0mascending\u001b[0m\u001b[0;34m=\u001b[0m\u001b[0;32mFalse\u001b[0m\u001b[0;34m)\u001b[0m\u001b[0;34m.\u001b[0m\u001b[0mplot\u001b[0m\u001b[0;34m(\u001b[0m\u001b[0mkind\u001b[0m\u001b[0;34m=\u001b[0m\u001b[0;34m'bar'\u001b[0m\u001b[0;34m,\u001b[0m \u001b[0mcolor\u001b[0m \u001b[0;34m=\u001b[0m \u001b[0;34m'olive'\u001b[0m\u001b[0;34m,\u001b[0m\u001b[0mx\u001b[0m \u001b[0;34m=\u001b[0m \u001b[0;34m'Day_of_week'\u001b[0m\u001b[0;34m,\u001b[0m \u001b[0my\u001b[0m \u001b[0;34m=\u001b[0m \u001b[0;34m'Count'\u001b[0m\u001b[0;34m)\u001b[0m\u001b[0;34m\u001b[0m\u001b[0;34m\u001b[0m\u001b[0m\n\u001b[0m\u001b[1;32m      2\u001b[0m \u001b[0mplt\u001b[0m\u001b[0;34m.\u001b[0m\u001b[0mxlabel\u001b[0m\u001b[0;34m(\u001b[0m\u001b[0;34m'Day of the week'\u001b[0m\u001b[0;34m)\u001b[0m\u001b[0;34m\u001b[0m\u001b[0;34m\u001b[0m\u001b[0m\n\u001b[1;32m      3\u001b[0m \u001b[0mplt\u001b[0m\u001b[0;34m.\u001b[0m\u001b[0mylabel\u001b[0m\u001b[0;34m(\u001b[0m\u001b[0;34m'No. of reported crimes'\u001b[0m\u001b[0;34m)\u001b[0m\u001b[0;34m\u001b[0m\u001b[0;34m\u001b[0m\u001b[0m\n\u001b[1;32m      4\u001b[0m \u001b[0mplt\u001b[0m\u001b[0;34m.\u001b[0m\u001b[0mtitle\u001b[0m\u001b[0;34m(\u001b[0m\u001b[0;34m'No. of reported crimes per day of the week from 2001 to present'\u001b[0m\u001b[0;34m)\u001b[0m\u001b[0;34m\u001b[0m\u001b[0;34m\u001b[0m\u001b[0m\n",
            "\u001b[0;31mNameError\u001b[0m: name 'cp' is not defined"
          ]
        }
      ]
    }
  ],
  "metadata": {
    "colab": {
      "name": "歡迎使用 Colaboratory",
      "provenance": [],
      "toc_visible": true,
      "include_colab_link": true
    },
    "kernelspec": {
      "display_name": "Python 3",
      "name": "python3"
    }
  },
  "nbformat": 4,
  "nbformat_minor": 0
}